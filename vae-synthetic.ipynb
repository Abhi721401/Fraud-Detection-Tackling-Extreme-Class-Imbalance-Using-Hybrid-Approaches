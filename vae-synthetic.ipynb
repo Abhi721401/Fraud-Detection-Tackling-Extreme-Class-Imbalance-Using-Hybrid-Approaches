{
 "cells": [
  {
   "cell_type": "markdown",
   "metadata": {},
   "source": [
    "### Problem: The target variable is highly imbalanced\n",
    "### Target Variable has two category:\n",
    "###                                 1. Fraud- 1026\n",
    "###                                 2. Not Fraud- 48974"
   ]
  },
  {
   "cell_type": "code",
   "execution_count": null,
   "metadata": {},
   "outputs": [],
   "source": [
    "import numpy as np\n",
    "import pandas as pd"
   ]
  },
  {
   "cell_type": "code",
   "execution_count": 2,
   "metadata": {
    "execution": {
     "iopub.execute_input": "2025-10-15T17:41:33.663772Z",
     "iopub.status.busy": "2025-10-15T17:41:33.663508Z",
     "iopub.status.idle": "2025-10-15T17:41:33.667639Z",
     "shell.execute_reply": "2025-10-15T17:41:33.666737Z",
     "shell.execute_reply.started": "2025-10-15T17:41:33.663749Z"
    },
    "trusted": true
   },
   "outputs": [],
   "source": [
    "loan_csv_path = \"/kaggle/input/pan-card-realfake-image/loan_applications.csv\"\n",
    "txn_csv_path = \"/kaggle/input/pan-card-realfake-image/transactions.csv\""
   ]
  },
  {
   "cell_type": "code",
   "execution_count": 3,
   "metadata": {
    "execution": {
     "iopub.execute_input": "2025-10-15T17:41:36.032404Z",
     "iopub.status.busy": "2025-10-15T17:41:36.032149Z",
     "iopub.status.idle": "2025-10-15T17:41:37.101269Z",
     "shell.execute_reply": "2025-10-15T17:41:37.100455Z",
     "shell.execute_reply.started": "2025-10-15T17:41:36.032385Z"
    },
    "trusted": true
   },
   "outputs": [],
   "source": [
    "loan_df = pd.read_csv(loan_csv_path)\n",
    "txn_df = pd.read_csv(txn_csv_path)"
   ]
  },
  {
   "cell_type": "code",
   "execution_count": 4,
   "metadata": {
    "execution": {
     "iopub.execute_input": "2025-10-15T17:41:39.221519Z",
     "iopub.status.busy": "2025-10-15T17:41:39.221217Z",
     "iopub.status.idle": "2025-10-15T17:41:39.256888Z",
     "shell.execute_reply": "2025-10-15T17:41:39.256221Z",
     "shell.execute_reply.started": "2025-10-15T17:41:39.221496Z"
    },
    "trusted": true
   },
   "outputs": [
    {
     "data": {
      "text/html": [
       "<div>\n",
       "<style scoped>\n",
       "    .dataframe tbody tr th:only-of-type {\n",
       "        vertical-align: middle;\n",
       "    }\n",
       "\n",
       "    .dataframe tbody tr th {\n",
       "        vertical-align: top;\n",
       "    }\n",
       "\n",
       "    .dataframe thead th {\n",
       "        text-align: right;\n",
       "    }\n",
       "</style>\n",
       "<table border=\"1\" class=\"dataframe\">\n",
       "  <thead>\n",
       "    <tr style=\"text-align: right;\">\n",
       "      <th></th>\n",
       "      <th>application_id</th>\n",
       "      <th>customer_id</th>\n",
       "      <th>application_date</th>\n",
       "      <th>loan_type</th>\n",
       "      <th>loan_amount_requested</th>\n",
       "      <th>loan_tenure_months</th>\n",
       "      <th>interest_rate_offered</th>\n",
       "      <th>purpose_of_loan</th>\n",
       "      <th>employment_status</th>\n",
       "      <th>monthly_income</th>\n",
       "      <th>...</th>\n",
       "      <th>existing_emis_monthly</th>\n",
       "      <th>debt_to_income_ratio</th>\n",
       "      <th>property_ownership_status</th>\n",
       "      <th>residential_address</th>\n",
       "      <th>applicant_age</th>\n",
       "      <th>gender</th>\n",
       "      <th>number_of_dependents</th>\n",
       "      <th>loan_status</th>\n",
       "      <th>fraud_flag</th>\n",
       "      <th>fraud_type</th>\n",
       "    </tr>\n",
       "  </thead>\n",
       "  <tbody>\n",
       "    <tr>\n",
       "      <th>0</th>\n",
       "      <td>c8bf0bea-70e6-4870-9125-41b8210c527f</td>\n",
       "      <td>CUST109427</td>\n",
       "      <td>2023-04-09</td>\n",
       "      <td>Business Loan</td>\n",
       "      <td>604000.0</td>\n",
       "      <td>12</td>\n",
       "      <td>11.66</td>\n",
       "      <td>Medical Emergency</td>\n",
       "      <td>Retired</td>\n",
       "      <td>34700.0</td>\n",
       "      <td>...</td>\n",
       "      <td>1100.0</td>\n",
       "      <td>3.17</td>\n",
       "      <td>Rented</td>\n",
       "      <td>94/31, Sehgal Zila, Vadodara-380521, Anantapur...</td>\n",
       "      <td>28</td>\n",
       "      <td>Female</td>\n",
       "      <td>3</td>\n",
       "      <td>Approved</td>\n",
       "      <td>0</td>\n",
       "      <td>NaN</td>\n",
       "    </tr>\n",
       "    <tr>\n",
       "      <th>1</th>\n",
       "      <td>91224cec-3544-4bc7-ac15-a9792da54c02</td>\n",
       "      <td>CUST106146</td>\n",
       "      <td>2023-09-23</td>\n",
       "      <td>Car Loan</td>\n",
       "      <td>100000.0</td>\n",
       "      <td>240</td>\n",
       "      <td>13.62</td>\n",
       "      <td>Education</td>\n",
       "      <td>Unemployed</td>\n",
       "      <td>51600.0</td>\n",
       "      <td>...</td>\n",
       "      <td>0.0</td>\n",
       "      <td>0.00</td>\n",
       "      <td>Owned</td>\n",
       "      <td>H.No. 00, Sheth Chowk, Ichalkaranji 006728, Im...</td>\n",
       "      <td>44</td>\n",
       "      <td>Other</td>\n",
       "      <td>3</td>\n",
       "      <td>Approved</td>\n",
       "      <td>0</td>\n",
       "      <td>NaN</td>\n",
       "    </tr>\n",
       "    <tr>\n",
       "      <th>2</th>\n",
       "      <td>4efcd02d-4a03-4ab7-9bd1-0ff430493d0c</td>\n",
       "      <td>CUST100674</td>\n",
       "      <td>2023-05-22</td>\n",
       "      <td>Education Loan</td>\n",
       "      <td>431000.0</td>\n",
       "      <td>60</td>\n",
       "      <td>11.40</td>\n",
       "      <td>Medical Emergency</td>\n",
       "      <td>Self-Employed</td>\n",
       "      <td>14800.0</td>\n",
       "      <td>...</td>\n",
       "      <td>4600.0</td>\n",
       "      <td>31.08</td>\n",
       "      <td>Rented</td>\n",
       "      <td>H.No. 81, Dutta Path, Kozhikode-340301, Tadepa...</td>\n",
       "      <td>56</td>\n",
       "      <td>Other</td>\n",
       "      <td>4</td>\n",
       "      <td>Approved</td>\n",
       "      <td>0</td>\n",
       "      <td>NaN</td>\n",
       "    </tr>\n",
       "    <tr>\n",
       "      <th>3</th>\n",
       "      <td>a61337d4-ba04-4a68-b492-2cb8266e6ed7</td>\n",
       "      <td>CUST106466</td>\n",
       "      <td>2024-07-09</td>\n",
       "      <td>Car Loan</td>\n",
       "      <td>324000.0</td>\n",
       "      <td>120</td>\n",
       "      <td>10.36</td>\n",
       "      <td>Debt Consolidation</td>\n",
       "      <td>Self-Employed</td>\n",
       "      <td>28800.0</td>\n",
       "      <td>...</td>\n",
       "      <td>4000.0</td>\n",
       "      <td>13.89</td>\n",
       "      <td>Rented</td>\n",
       "      <td>H.No. 022, Rege Road, Tiruvottiyur-927857, Aur...</td>\n",
       "      <td>27</td>\n",
       "      <td>Other</td>\n",
       "      <td>4</td>\n",
       "      <td>Declined</td>\n",
       "      <td>0</td>\n",
       "      <td>NaN</td>\n",
       "    </tr>\n",
       "    <tr>\n",
       "      <th>4</th>\n",
       "      <td>a8d1639e-170b-41b2-826a-55c7dae38d16</td>\n",
       "      <td>CUST112319</td>\n",
       "      <td>2023-11-20</td>\n",
       "      <td>Personal Loan</td>\n",
       "      <td>100000.0</td>\n",
       "      <td>36</td>\n",
       "      <td>14.14</td>\n",
       "      <td>Business Expansion</td>\n",
       "      <td>Salaried</td>\n",
       "      <td>43900.0</td>\n",
       "      <td>...</td>\n",
       "      <td>1100.0</td>\n",
       "      <td>2.51</td>\n",
       "      <td>Rented</td>\n",
       "      <td>85/24, Bali Zila, Sambalpur 922071, Tumkur, Ke...</td>\n",
       "      <td>50</td>\n",
       "      <td>Other</td>\n",
       "      <td>0</td>\n",
       "      <td>Declined</td>\n",
       "      <td>0</td>\n",
       "      <td>NaN</td>\n",
       "    </tr>\n",
       "  </tbody>\n",
       "</table>\n",
       "<p>5 rows × 21 columns</p>\n",
       "</div>"
      ],
      "text/plain": [
       "                         application_id customer_id application_date  \\\n",
       "0  c8bf0bea-70e6-4870-9125-41b8210c527f  CUST109427       2023-04-09   \n",
       "1  91224cec-3544-4bc7-ac15-a9792da54c02  CUST106146       2023-09-23   \n",
       "2  4efcd02d-4a03-4ab7-9bd1-0ff430493d0c  CUST100674       2023-05-22   \n",
       "3  a61337d4-ba04-4a68-b492-2cb8266e6ed7  CUST106466       2024-07-09   \n",
       "4  a8d1639e-170b-41b2-826a-55c7dae38d16  CUST112319       2023-11-20   \n",
       "\n",
       "        loan_type  loan_amount_requested  loan_tenure_months  \\\n",
       "0   Business Loan               604000.0                  12   \n",
       "1        Car Loan               100000.0                 240   \n",
       "2  Education Loan               431000.0                  60   \n",
       "3        Car Loan               324000.0                 120   \n",
       "4   Personal Loan               100000.0                  36   \n",
       "\n",
       "   interest_rate_offered     purpose_of_loan employment_status  \\\n",
       "0                  11.66   Medical Emergency           Retired   \n",
       "1                  13.62           Education        Unemployed   \n",
       "2                  11.40   Medical Emergency     Self-Employed   \n",
       "3                  10.36  Debt Consolidation     Self-Employed   \n",
       "4                  14.14  Business Expansion          Salaried   \n",
       "\n",
       "   monthly_income  ...  existing_emis_monthly  debt_to_income_ratio  \\\n",
       "0         34700.0  ...                 1100.0                  3.17   \n",
       "1         51600.0  ...                    0.0                  0.00   \n",
       "2         14800.0  ...                 4600.0                 31.08   \n",
       "3         28800.0  ...                 4000.0                 13.89   \n",
       "4         43900.0  ...                 1100.0                  2.51   \n",
       "\n",
       "   property_ownership_status  \\\n",
       "0                     Rented   \n",
       "1                      Owned   \n",
       "2                     Rented   \n",
       "3                     Rented   \n",
       "4                     Rented   \n",
       "\n",
       "                                 residential_address applicant_age  gender  \\\n",
       "0  94/31, Sehgal Zila, Vadodara-380521, Anantapur...            28  Female   \n",
       "1  H.No. 00, Sheth Chowk, Ichalkaranji 006728, Im...            44   Other   \n",
       "2  H.No. 81, Dutta Path, Kozhikode-340301, Tadepa...            56   Other   \n",
       "3  H.No. 022, Rege Road, Tiruvottiyur-927857, Aur...            27   Other   \n",
       "4  85/24, Bali Zila, Sambalpur 922071, Tumkur, Ke...            50   Other   \n",
       "\n",
       "  number_of_dependents  loan_status fraud_flag  fraud_type  \n",
       "0                    3     Approved          0         NaN  \n",
       "1                    3     Approved          0         NaN  \n",
       "2                    4     Approved          0         NaN  \n",
       "3                    4     Declined          0         NaN  \n",
       "4                    0     Declined          0         NaN  \n",
       "\n",
       "[5 rows x 21 columns]"
      ]
     },
     "execution_count": 4,
     "metadata": {},
     "output_type": "execute_result"
    }
   ],
   "source": [
    "loan_df.head()"
   ]
  },
  {
   "cell_type": "code",
   "execution_count": 5,
   "metadata": {
    "execution": {
     "iopub.execute_input": "2025-10-15T17:41:42.496669Z",
     "iopub.status.busy": "2025-10-15T17:41:42.496014Z",
     "iopub.status.idle": "2025-10-15T17:41:42.508612Z",
     "shell.execute_reply": "2025-10-15T17:41:42.507944Z",
     "shell.execute_reply.started": "2025-10-15T17:41:42.496646Z"
    },
    "trusted": true
   },
   "outputs": [
    {
     "data": {
      "text/html": [
       "<div>\n",
       "<style scoped>\n",
       "    .dataframe tbody tr th:only-of-type {\n",
       "        vertical-align: middle;\n",
       "    }\n",
       "\n",
       "    .dataframe tbody tr th {\n",
       "        vertical-align: top;\n",
       "    }\n",
       "\n",
       "    .dataframe thead th {\n",
       "        text-align: right;\n",
       "    }\n",
       "</style>\n",
       "<table border=\"1\" class=\"dataframe\">\n",
       "  <thead>\n",
       "    <tr style=\"text-align: right;\">\n",
       "      <th></th>\n",
       "      <th>transaction_id</th>\n",
       "      <th>customer_id</th>\n",
       "      <th>transaction_date</th>\n",
       "      <th>transaction_type</th>\n",
       "      <th>transaction_amount</th>\n",
       "      <th>merchant_category</th>\n",
       "      <th>merchant_name</th>\n",
       "      <th>transaction_location</th>\n",
       "      <th>account_balance_after_transaction</th>\n",
       "      <th>is_international_transaction</th>\n",
       "      <th>device_used</th>\n",
       "      <th>ip_address</th>\n",
       "      <th>transaction_status</th>\n",
       "      <th>transaction_source_destination</th>\n",
       "      <th>transaction_notes</th>\n",
       "      <th>fraud_flag</th>\n",
       "    </tr>\n",
       "  </thead>\n",
       "  <tbody>\n",
       "    <tr>\n",
       "      <th>0</th>\n",
       "      <td>2d7ddfd4-1112-4354-a2dd-fad94b45a850</td>\n",
       "      <td>CUST102188</td>\n",
       "      <td>2022-01-04 11:27:00</td>\n",
       "      <td>Bill Payment</td>\n",
       "      <td>2100.0</td>\n",
       "      <td>Dining</td>\n",
       "      <td>Rattan, Khanna and Magar</td>\n",
       "      <td>Srikakulam, Himachal Pradesh</td>\n",
       "      <td>8211.0</td>\n",
       "      <td>0</td>\n",
       "      <td>Web</td>\n",
       "      <td>31.102.21.141</td>\n",
       "      <td>Success</td>\n",
       "      <td>BCHG80012468703731</td>\n",
       "      <td>Payment for Dining</td>\n",
       "      <td>0</td>\n",
       "    </tr>\n",
       "    <tr>\n",
       "      <th>1</th>\n",
       "      <td>ba998721-a612-4e0a-8354-46d001e9c39c</td>\n",
       "      <td>CUST107144</td>\n",
       "      <td>2022-01-03 23:52:00</td>\n",
       "      <td>UPI</td>\n",
       "      <td>1400.0</td>\n",
       "      <td>Travel</td>\n",
       "      <td>Chauhan LLC</td>\n",
       "      <td>Giridih, Manipur</td>\n",
       "      <td>12858.0</td>\n",
       "      <td>0</td>\n",
       "      <td>Web</td>\n",
       "      <td>176.48.222.166</td>\n",
       "      <td>Success</td>\n",
       "      <td>CJPZ11841095072972</td>\n",
       "      <td>Payment for Travel</td>\n",
       "      <td>0</td>\n",
       "    </tr>\n",
       "    <tr>\n",
       "      <th>2</th>\n",
       "      <td>0b4ad8e2-40ac-49c9-b59a-c9efaaccc7a6</td>\n",
       "      <td>CUST102126</td>\n",
       "      <td>2022-01-15 06:54:00</td>\n",
       "      <td>Debit Card</td>\n",
       "      <td>1000.0</td>\n",
       "      <td>Entertainment</td>\n",
       "      <td>Halder-Sarma</td>\n",
       "      <td>Avadi, Kerala</td>\n",
       "      <td>19268.0</td>\n",
       "      <td>0</td>\n",
       "      <td>ATM</td>\n",
       "      <td>181.62.105.161</td>\n",
       "      <td>Success</td>\n",
       "      <td>TLCG50761416960179</td>\n",
       "      <td>Payment for Entertainment</td>\n",
       "      <td>0</td>\n",
       "    </tr>\n",
       "    <tr>\n",
       "      <th>3</th>\n",
       "      <td>c4fce988-34c5-48db-8686-bfad0b3bc0b5</td>\n",
       "      <td>CUST109887</td>\n",
       "      <td>2022-01-08 07:57:00</td>\n",
       "      <td>Credit Card</td>\n",
       "      <td>10500.0</td>\n",
       "      <td>Utilities</td>\n",
       "      <td>Anand, Khare and Balakrishnan</td>\n",
       "      <td>Navi Mumbai, Maharashtra</td>\n",
       "      <td>29585.0</td>\n",
       "      <td>0</td>\n",
       "      <td>ATM</td>\n",
       "      <td>121.157.246.80</td>\n",
       "      <td>Success</td>\n",
       "      <td>PRZJ55096553432036</td>\n",
       "      <td>Payment for Utilities</td>\n",
       "      <td>0</td>\n",
       "    </tr>\n",
       "    <tr>\n",
       "      <th>4</th>\n",
       "      <td>f9b8ca30-00e5-4322-8cff-eac0554cf2da</td>\n",
       "      <td>CUST108620</td>\n",
       "      <td>2022-01-02 10:43:00</td>\n",
       "      <td>Loan Disbursement</td>\n",
       "      <td>8100.0</td>\n",
       "      <td>Electronics</td>\n",
       "      <td>Zacharia and Sons</td>\n",
       "      <td>Visakhapatnam, Gujarat</td>\n",
       "      <td>0.0</td>\n",
       "      <td>0</td>\n",
       "      <td>ATM</td>\n",
       "      <td>129.96.5.57</td>\n",
       "      <td>Success</td>\n",
       "      <td>NBAI29021393288369</td>\n",
       "      <td>Payment for Electronics</td>\n",
       "      <td>0</td>\n",
       "    </tr>\n",
       "  </tbody>\n",
       "</table>\n",
       "</div>"
      ],
      "text/plain": [
       "                         transaction_id customer_id     transaction_date  \\\n",
       "0  2d7ddfd4-1112-4354-a2dd-fad94b45a850  CUST102188  2022-01-04 11:27:00   \n",
       "1  ba998721-a612-4e0a-8354-46d001e9c39c  CUST107144  2022-01-03 23:52:00   \n",
       "2  0b4ad8e2-40ac-49c9-b59a-c9efaaccc7a6  CUST102126  2022-01-15 06:54:00   \n",
       "3  c4fce988-34c5-48db-8686-bfad0b3bc0b5  CUST109887  2022-01-08 07:57:00   \n",
       "4  f9b8ca30-00e5-4322-8cff-eac0554cf2da  CUST108620  2022-01-02 10:43:00   \n",
       "\n",
       "    transaction_type  transaction_amount merchant_category  \\\n",
       "0       Bill Payment              2100.0            Dining   \n",
       "1                UPI              1400.0            Travel   \n",
       "2         Debit Card              1000.0     Entertainment   \n",
       "3        Credit Card             10500.0         Utilities   \n",
       "4  Loan Disbursement              8100.0       Electronics   \n",
       "\n",
       "                   merchant_name          transaction_location  \\\n",
       "0       Rattan, Khanna and Magar  Srikakulam, Himachal Pradesh   \n",
       "1                    Chauhan LLC              Giridih, Manipur   \n",
       "2                   Halder-Sarma                 Avadi, Kerala   \n",
       "3  Anand, Khare and Balakrishnan      Navi Mumbai, Maharashtra   \n",
       "4              Zacharia and Sons        Visakhapatnam, Gujarat   \n",
       "\n",
       "   account_balance_after_transaction  is_international_transaction  \\\n",
       "0                             8211.0                             0   \n",
       "1                            12858.0                             0   \n",
       "2                            19268.0                             0   \n",
       "3                            29585.0                             0   \n",
       "4                                0.0                             0   \n",
       "\n",
       "  device_used      ip_address transaction_status  \\\n",
       "0         Web   31.102.21.141            Success   \n",
       "1         Web  176.48.222.166            Success   \n",
       "2         ATM  181.62.105.161            Success   \n",
       "3         ATM  121.157.246.80            Success   \n",
       "4         ATM     129.96.5.57            Success   \n",
       "\n",
       "  transaction_source_destination          transaction_notes  fraud_flag  \n",
       "0             BCHG80012468703731         Payment for Dining           0  \n",
       "1             CJPZ11841095072972         Payment for Travel           0  \n",
       "2             TLCG50761416960179  Payment for Entertainment           0  \n",
       "3             PRZJ55096553432036      Payment for Utilities           0  \n",
       "4             NBAI29021393288369    Payment for Electronics           0  "
      ]
     },
     "execution_count": 5,
     "metadata": {},
     "output_type": "execute_result"
    }
   ],
   "source": [
    "txn_df.head()"
   ]
  },
  {
   "cell_type": "code",
   "execution_count": 6,
   "metadata": {
    "execution": {
     "iopub.execute_input": "2025-10-15T17:41:45.513381Z",
     "iopub.status.busy": "2025-10-15T17:41:45.513108Z",
     "iopub.status.idle": "2025-10-15T17:41:45.588611Z",
     "shell.execute_reply": "2025-10-15T17:41:45.588076Z",
     "shell.execute_reply.started": "2025-10-15T17:41:45.513360Z"
    },
    "trusted": true
   },
   "outputs": [],
   "source": [
    "txn_agg = txn_df.groupby('customer_id').agg({\n",
    "    'transaction_amount': ['sum','mean','max','min','std'],\n",
    "    'transaction_id':'count',\n",
    "    'is_international_transaction':'sum',\n",
    "    'account_balance_after_transaction':['mean','min']\n",
    "})\n",
    "txn_agg.columns = ['_'.join(col).strip() for col in txn_agg.columns]\n",
    "txn_agg.reset_index(inplace=True)\n",
    "\n",
    "df = loan_df.merge(txn_agg, on='customer_id', how='left')"
   ]
  },
  {
   "cell_type": "code",
   "execution_count": 8,
   "metadata": {
    "execution": {
     "iopub.execute_input": "2025-10-15T17:41:51.074889Z",
     "iopub.status.busy": "2025-10-15T17:41:51.074617Z",
     "iopub.status.idle": "2025-10-15T17:41:51.091478Z",
     "shell.execute_reply": "2025-10-15T17:41:51.090749Z",
     "shell.execute_reply.started": "2025-10-15T17:41:51.074866Z"
    },
    "trusted": true
   },
   "outputs": [
    {
     "data": {
      "text/html": [
       "<div>\n",
       "<style scoped>\n",
       "    .dataframe tbody tr th:only-of-type {\n",
       "        vertical-align: middle;\n",
       "    }\n",
       "\n",
       "    .dataframe tbody tr th {\n",
       "        vertical-align: top;\n",
       "    }\n",
       "\n",
       "    .dataframe thead th {\n",
       "        text-align: right;\n",
       "    }\n",
       "</style>\n",
       "<table border=\"1\" class=\"dataframe\">\n",
       "  <thead>\n",
       "    <tr style=\"text-align: right;\">\n",
       "      <th></th>\n",
       "      <th>application_id</th>\n",
       "      <th>customer_id</th>\n",
       "      <th>application_date</th>\n",
       "      <th>loan_type</th>\n",
       "      <th>loan_amount_requested</th>\n",
       "      <th>loan_tenure_months</th>\n",
       "      <th>interest_rate_offered</th>\n",
       "      <th>purpose_of_loan</th>\n",
       "      <th>employment_status</th>\n",
       "      <th>monthly_income</th>\n",
       "      <th>...</th>\n",
       "      <th>fraud_type</th>\n",
       "      <th>transaction_amount_sum</th>\n",
       "      <th>transaction_amount_mean</th>\n",
       "      <th>transaction_amount_max</th>\n",
       "      <th>transaction_amount_min</th>\n",
       "      <th>transaction_amount_std</th>\n",
       "      <th>transaction_id_count</th>\n",
       "      <th>is_international_transaction_sum</th>\n",
       "      <th>account_balance_after_transaction_mean</th>\n",
       "      <th>account_balance_after_transaction_min</th>\n",
       "    </tr>\n",
       "  </thead>\n",
       "  <tbody>\n",
       "    <tr>\n",
       "      <th>0</th>\n",
       "      <td>c8bf0bea-70e6-4870-9125-41b8210c527f</td>\n",
       "      <td>CUST109427</td>\n",
       "      <td>2023-04-09</td>\n",
       "      <td>Business Loan</td>\n",
       "      <td>604000.0</td>\n",
       "      <td>12</td>\n",
       "      <td>11.66</td>\n",
       "      <td>Medical Emergency</td>\n",
       "      <td>Retired</td>\n",
       "      <td>34700.0</td>\n",
       "      <td>...</td>\n",
       "      <td>NaN</td>\n",
       "      <td>13700.0</td>\n",
       "      <td>6850.000000</td>\n",
       "      <td>8800.0</td>\n",
       "      <td>4900.0</td>\n",
       "      <td>2757.716447</td>\n",
       "      <td>2.0</td>\n",
       "      <td>0.0</td>\n",
       "      <td>8332.500000</td>\n",
       "      <td>0.0</td>\n",
       "    </tr>\n",
       "    <tr>\n",
       "      <th>1</th>\n",
       "      <td>91224cec-3544-4bc7-ac15-a9792da54c02</td>\n",
       "      <td>CUST106146</td>\n",
       "      <td>2023-09-23</td>\n",
       "      <td>Car Loan</td>\n",
       "      <td>100000.0</td>\n",
       "      <td>240</td>\n",
       "      <td>13.62</td>\n",
       "      <td>Education</td>\n",
       "      <td>Unemployed</td>\n",
       "      <td>51600.0</td>\n",
       "      <td>...</td>\n",
       "      <td>NaN</td>\n",
       "      <td>18700.0</td>\n",
       "      <td>4675.000000</td>\n",
       "      <td>9800.0</td>\n",
       "      <td>900.0</td>\n",
       "      <td>3730.393187</td>\n",
       "      <td>4.0</td>\n",
       "      <td>0.0</td>\n",
       "      <td>31553.750000</td>\n",
       "      <td>13656.0</td>\n",
       "    </tr>\n",
       "    <tr>\n",
       "      <th>2</th>\n",
       "      <td>4efcd02d-4a03-4ab7-9bd1-0ff430493d0c</td>\n",
       "      <td>CUST100674</td>\n",
       "      <td>2023-05-22</td>\n",
       "      <td>Education Loan</td>\n",
       "      <td>431000.0</td>\n",
       "      <td>60</td>\n",
       "      <td>11.40</td>\n",
       "      <td>Medical Emergency</td>\n",
       "      <td>Self-Employed</td>\n",
       "      <td>14800.0</td>\n",
       "      <td>...</td>\n",
       "      <td>NaN</td>\n",
       "      <td>13100.0</td>\n",
       "      <td>3275.000000</td>\n",
       "      <td>7600.0</td>\n",
       "      <td>300.0</td>\n",
       "      <td>3607.746296</td>\n",
       "      <td>4.0</td>\n",
       "      <td>0.0</td>\n",
       "      <td>31112.250000</td>\n",
       "      <td>18545.0</td>\n",
       "    </tr>\n",
       "    <tr>\n",
       "      <th>3</th>\n",
       "      <td>a61337d4-ba04-4a68-b492-2cb8266e6ed7</td>\n",
       "      <td>CUST106466</td>\n",
       "      <td>2024-07-09</td>\n",
       "      <td>Car Loan</td>\n",
       "      <td>324000.0</td>\n",
       "      <td>120</td>\n",
       "      <td>10.36</td>\n",
       "      <td>Debt Consolidation</td>\n",
       "      <td>Self-Employed</td>\n",
       "      <td>28800.0</td>\n",
       "      <td>...</td>\n",
       "      <td>NaN</td>\n",
       "      <td>2900.0</td>\n",
       "      <td>1450.000000</td>\n",
       "      <td>2200.0</td>\n",
       "      <td>700.0</td>\n",
       "      <td>1060.660172</td>\n",
       "      <td>2.0</td>\n",
       "      <td>0.0</td>\n",
       "      <td>11021.500000</td>\n",
       "      <td>1476.0</td>\n",
       "    </tr>\n",
       "    <tr>\n",
       "      <th>4</th>\n",
       "      <td>a8d1639e-170b-41b2-826a-55c7dae38d16</td>\n",
       "      <td>CUST112319</td>\n",
       "      <td>2023-11-20</td>\n",
       "      <td>Personal Loan</td>\n",
       "      <td>100000.0</td>\n",
       "      <td>36</td>\n",
       "      <td>14.14</td>\n",
       "      <td>Business Expansion</td>\n",
       "      <td>Salaried</td>\n",
       "      <td>43900.0</td>\n",
       "      <td>...</td>\n",
       "      <td>NaN</td>\n",
       "      <td>35600.0</td>\n",
       "      <td>11866.666667</td>\n",
       "      <td>18500.0</td>\n",
       "      <td>3300.0</td>\n",
       "      <td>7782.244749</td>\n",
       "      <td>3.0</td>\n",
       "      <td>0.0</td>\n",
       "      <td>24092.333333</td>\n",
       "      <td>0.0</td>\n",
       "    </tr>\n",
       "  </tbody>\n",
       "</table>\n",
       "<p>5 rows × 30 columns</p>\n",
       "</div>"
      ],
      "text/plain": [
       "                         application_id customer_id application_date  \\\n",
       "0  c8bf0bea-70e6-4870-9125-41b8210c527f  CUST109427       2023-04-09   \n",
       "1  91224cec-3544-4bc7-ac15-a9792da54c02  CUST106146       2023-09-23   \n",
       "2  4efcd02d-4a03-4ab7-9bd1-0ff430493d0c  CUST100674       2023-05-22   \n",
       "3  a61337d4-ba04-4a68-b492-2cb8266e6ed7  CUST106466       2024-07-09   \n",
       "4  a8d1639e-170b-41b2-826a-55c7dae38d16  CUST112319       2023-11-20   \n",
       "\n",
       "        loan_type  loan_amount_requested  loan_tenure_months  \\\n",
       "0   Business Loan               604000.0                  12   \n",
       "1        Car Loan               100000.0                 240   \n",
       "2  Education Loan               431000.0                  60   \n",
       "3        Car Loan               324000.0                 120   \n",
       "4   Personal Loan               100000.0                  36   \n",
       "\n",
       "   interest_rate_offered     purpose_of_loan employment_status  \\\n",
       "0                  11.66   Medical Emergency           Retired   \n",
       "1                  13.62           Education        Unemployed   \n",
       "2                  11.40   Medical Emergency     Self-Employed   \n",
       "3                  10.36  Debt Consolidation     Self-Employed   \n",
       "4                  14.14  Business Expansion          Salaried   \n",
       "\n",
       "   monthly_income  ...  fraud_type  transaction_amount_sum  \\\n",
       "0         34700.0  ...         NaN                 13700.0   \n",
       "1         51600.0  ...         NaN                 18700.0   \n",
       "2         14800.0  ...         NaN                 13100.0   \n",
       "3         28800.0  ...         NaN                  2900.0   \n",
       "4         43900.0  ...         NaN                 35600.0   \n",
       "\n",
       "   transaction_amount_mean transaction_amount_max transaction_amount_min  \\\n",
       "0              6850.000000                 8800.0                 4900.0   \n",
       "1              4675.000000                 9800.0                  900.0   \n",
       "2              3275.000000                 7600.0                  300.0   \n",
       "3              1450.000000                 2200.0                  700.0   \n",
       "4             11866.666667                18500.0                 3300.0   \n",
       "\n",
       "   transaction_amount_std transaction_id_count  \\\n",
       "0             2757.716447                  2.0   \n",
       "1             3730.393187                  4.0   \n",
       "2             3607.746296                  4.0   \n",
       "3             1060.660172                  2.0   \n",
       "4             7782.244749                  3.0   \n",
       "\n",
       "   is_international_transaction_sum account_balance_after_transaction_mean  \\\n",
       "0                               0.0                            8332.500000   \n",
       "1                               0.0                           31553.750000   \n",
       "2                               0.0                           31112.250000   \n",
       "3                               0.0                           11021.500000   \n",
       "4                               0.0                           24092.333333   \n",
       "\n",
       "   account_balance_after_transaction_min  \n",
       "0                                    0.0  \n",
       "1                                13656.0  \n",
       "2                                18545.0  \n",
       "3                                 1476.0  \n",
       "4                                    0.0  \n",
       "\n",
       "[5 rows x 30 columns]"
      ]
     },
     "execution_count": 8,
     "metadata": {},
     "output_type": "execute_result"
    }
   ],
   "source": [
    "df.head()"
   ]
  },
  {
   "cell_type": "code",
   "execution_count": 9,
   "metadata": {
    "execution": {
     "iopub.execute_input": "2025-10-15T17:41:53.753769Z",
     "iopub.status.busy": "2025-10-15T17:41:53.753525Z",
     "iopub.status.idle": "2025-10-15T17:41:53.759461Z",
     "shell.execute_reply": "2025-10-15T17:41:53.759006Z",
     "shell.execute_reply.started": "2025-10-15T17:41:53.753747Z"
    },
    "trusted": true
   },
   "outputs": [
    {
     "data": {
      "text/plain": [
       "(50000, 30)"
      ]
     },
     "execution_count": 9,
     "metadata": {},
     "output_type": "execute_result"
    }
   ],
   "source": [
    "df.shape"
   ]
  },
  {
   "cell_type": "code",
   "execution_count": 10,
   "metadata": {
    "execution": {
     "iopub.execute_input": "2025-10-15T17:41:56.306810Z",
     "iopub.status.busy": "2025-10-15T17:41:56.306272Z",
     "iopub.status.idle": "2025-10-15T17:41:56.315293Z",
     "shell.execute_reply": "2025-10-15T17:41:56.314498Z",
     "shell.execute_reply.started": "2025-10-15T17:41:56.306784Z"
    },
    "trusted": true
   },
   "outputs": [
    {
     "name": "stdout",
     "output_type": "stream",
     "text": [
      "fraud_flag\n",
      "0    48974\n",
      "1     1026\n",
      "Name: count, dtype: int64\n"
     ]
    }
   ],
   "source": [
    "print(df['fraud_flag'].value_counts())"
   ]
  },
  {
   "cell_type": "code",
   "execution_count": 11,
   "metadata": {
    "execution": {
     "iopub.execute_input": "2025-10-15T17:41:58.538648Z",
     "iopub.status.busy": "2025-10-15T17:41:58.538405Z",
     "iopub.status.idle": "2025-10-15T17:41:58.550193Z",
     "shell.execute_reply": "2025-10-15T17:41:58.549491Z",
     "shell.execute_reply.started": "2025-10-15T17:41:58.538630Z"
    },
    "trusted": true
   },
   "outputs": [],
   "source": [
    "df=df.drop('transaction_amount_std',axis=1)"
   ]
  },
  {
   "cell_type": "code",
   "execution_count": 12,
   "metadata": {
    "execution": {
     "iopub.execute_input": "2025-10-15T17:41:59.944638Z",
     "iopub.status.busy": "2025-10-15T17:41:59.944413Z",
     "iopub.status.idle": "2025-10-15T17:42:00.982305Z",
     "shell.execute_reply": "2025-10-15T17:42:00.981693Z",
     "shell.execute_reply.started": "2025-10-15T17:41:59.944622Z"
    },
    "trusted": true
   },
   "outputs": [],
   "source": [
    " from sklearn.preprocessing import StandardScaler, LabelEncoder"
   ]
  },
  {
   "cell_type": "code",
   "execution_count": 13,
   "metadata": {
    "execution": {
     "iopub.execute_input": "2025-10-15T17:42:03.327474Z",
     "iopub.status.busy": "2025-10-15T17:42:03.326785Z",
     "iopub.status.idle": "2025-10-15T17:42:03.345304Z",
     "shell.execute_reply": "2025-10-15T17:42:03.344706Z",
     "shell.execute_reply.started": "2025-10-15T17:42:03.327450Z"
    },
    "trusted": true
   },
   "outputs": [
    {
     "data": {
      "text/html": [
       "<div>\n",
       "<style scoped>\n",
       "    .dataframe tbody tr th:only-of-type {\n",
       "        vertical-align: middle;\n",
       "    }\n",
       "\n",
       "    .dataframe tbody tr th {\n",
       "        vertical-align: top;\n",
       "    }\n",
       "\n",
       "    .dataframe thead th {\n",
       "        text-align: right;\n",
       "    }\n",
       "</style>\n",
       "<table border=\"1\" class=\"dataframe\">\n",
       "  <thead>\n",
       "    <tr style=\"text-align: right;\">\n",
       "      <th></th>\n",
       "      <th>application_id</th>\n",
       "      <th>customer_id</th>\n",
       "      <th>application_date</th>\n",
       "      <th>loan_type</th>\n",
       "      <th>loan_amount_requested</th>\n",
       "      <th>loan_tenure_months</th>\n",
       "      <th>interest_rate_offered</th>\n",
       "      <th>purpose_of_loan</th>\n",
       "      <th>employment_status</th>\n",
       "      <th>monthly_income</th>\n",
       "      <th>...</th>\n",
       "      <th>fraud_flag</th>\n",
       "      <th>fraud_type</th>\n",
       "      <th>transaction_amount_sum</th>\n",
       "      <th>transaction_amount_mean</th>\n",
       "      <th>transaction_amount_max</th>\n",
       "      <th>transaction_amount_min</th>\n",
       "      <th>transaction_id_count</th>\n",
       "      <th>is_international_transaction_sum</th>\n",
       "      <th>account_balance_after_transaction_mean</th>\n",
       "      <th>account_balance_after_transaction_min</th>\n",
       "    </tr>\n",
       "  </thead>\n",
       "  <tbody>\n",
       "    <tr>\n",
       "      <th>0</th>\n",
       "      <td>c8bf0bea-70e6-4870-9125-41b8210c527f</td>\n",
       "      <td>CUST109427</td>\n",
       "      <td>2023-04-09</td>\n",
       "      <td>Business Loan</td>\n",
       "      <td>604000.0</td>\n",
       "      <td>12</td>\n",
       "      <td>11.66</td>\n",
       "      <td>Medical Emergency</td>\n",
       "      <td>Retired</td>\n",
       "      <td>34700.0</td>\n",
       "      <td>...</td>\n",
       "      <td>0</td>\n",
       "      <td>NaN</td>\n",
       "      <td>13700.0</td>\n",
       "      <td>6850.000000</td>\n",
       "      <td>8800.0</td>\n",
       "      <td>4900.0</td>\n",
       "      <td>2.0</td>\n",
       "      <td>0.0</td>\n",
       "      <td>8332.500000</td>\n",
       "      <td>0.0</td>\n",
       "    </tr>\n",
       "    <tr>\n",
       "      <th>1</th>\n",
       "      <td>91224cec-3544-4bc7-ac15-a9792da54c02</td>\n",
       "      <td>CUST106146</td>\n",
       "      <td>2023-09-23</td>\n",
       "      <td>Car Loan</td>\n",
       "      <td>100000.0</td>\n",
       "      <td>240</td>\n",
       "      <td>13.62</td>\n",
       "      <td>Education</td>\n",
       "      <td>Unemployed</td>\n",
       "      <td>51600.0</td>\n",
       "      <td>...</td>\n",
       "      <td>0</td>\n",
       "      <td>NaN</td>\n",
       "      <td>18700.0</td>\n",
       "      <td>4675.000000</td>\n",
       "      <td>9800.0</td>\n",
       "      <td>900.0</td>\n",
       "      <td>4.0</td>\n",
       "      <td>0.0</td>\n",
       "      <td>31553.750000</td>\n",
       "      <td>13656.0</td>\n",
       "    </tr>\n",
       "    <tr>\n",
       "      <th>2</th>\n",
       "      <td>4efcd02d-4a03-4ab7-9bd1-0ff430493d0c</td>\n",
       "      <td>CUST100674</td>\n",
       "      <td>2023-05-22</td>\n",
       "      <td>Education Loan</td>\n",
       "      <td>431000.0</td>\n",
       "      <td>60</td>\n",
       "      <td>11.40</td>\n",
       "      <td>Medical Emergency</td>\n",
       "      <td>Self-Employed</td>\n",
       "      <td>14800.0</td>\n",
       "      <td>...</td>\n",
       "      <td>0</td>\n",
       "      <td>NaN</td>\n",
       "      <td>13100.0</td>\n",
       "      <td>3275.000000</td>\n",
       "      <td>7600.0</td>\n",
       "      <td>300.0</td>\n",
       "      <td>4.0</td>\n",
       "      <td>0.0</td>\n",
       "      <td>31112.250000</td>\n",
       "      <td>18545.0</td>\n",
       "    </tr>\n",
       "    <tr>\n",
       "      <th>3</th>\n",
       "      <td>a61337d4-ba04-4a68-b492-2cb8266e6ed7</td>\n",
       "      <td>CUST106466</td>\n",
       "      <td>2024-07-09</td>\n",
       "      <td>Car Loan</td>\n",
       "      <td>324000.0</td>\n",
       "      <td>120</td>\n",
       "      <td>10.36</td>\n",
       "      <td>Debt Consolidation</td>\n",
       "      <td>Self-Employed</td>\n",
       "      <td>28800.0</td>\n",
       "      <td>...</td>\n",
       "      <td>0</td>\n",
       "      <td>NaN</td>\n",
       "      <td>2900.0</td>\n",
       "      <td>1450.000000</td>\n",
       "      <td>2200.0</td>\n",
       "      <td>700.0</td>\n",
       "      <td>2.0</td>\n",
       "      <td>0.0</td>\n",
       "      <td>11021.500000</td>\n",
       "      <td>1476.0</td>\n",
       "    </tr>\n",
       "    <tr>\n",
       "      <th>4</th>\n",
       "      <td>a8d1639e-170b-41b2-826a-55c7dae38d16</td>\n",
       "      <td>CUST112319</td>\n",
       "      <td>2023-11-20</td>\n",
       "      <td>Personal Loan</td>\n",
       "      <td>100000.0</td>\n",
       "      <td>36</td>\n",
       "      <td>14.14</td>\n",
       "      <td>Business Expansion</td>\n",
       "      <td>Salaried</td>\n",
       "      <td>43900.0</td>\n",
       "      <td>...</td>\n",
       "      <td>0</td>\n",
       "      <td>NaN</td>\n",
       "      <td>35600.0</td>\n",
       "      <td>11866.666667</td>\n",
       "      <td>18500.0</td>\n",
       "      <td>3300.0</td>\n",
       "      <td>3.0</td>\n",
       "      <td>0.0</td>\n",
       "      <td>24092.333333</td>\n",
       "      <td>0.0</td>\n",
       "    </tr>\n",
       "  </tbody>\n",
       "</table>\n",
       "<p>5 rows × 29 columns</p>\n",
       "</div>"
      ],
      "text/plain": [
       "                         application_id customer_id application_date  \\\n",
       "0  c8bf0bea-70e6-4870-9125-41b8210c527f  CUST109427       2023-04-09   \n",
       "1  91224cec-3544-4bc7-ac15-a9792da54c02  CUST106146       2023-09-23   \n",
       "2  4efcd02d-4a03-4ab7-9bd1-0ff430493d0c  CUST100674       2023-05-22   \n",
       "3  a61337d4-ba04-4a68-b492-2cb8266e6ed7  CUST106466       2024-07-09   \n",
       "4  a8d1639e-170b-41b2-826a-55c7dae38d16  CUST112319       2023-11-20   \n",
       "\n",
       "        loan_type  loan_amount_requested  loan_tenure_months  \\\n",
       "0   Business Loan               604000.0                  12   \n",
       "1        Car Loan               100000.0                 240   \n",
       "2  Education Loan               431000.0                  60   \n",
       "3        Car Loan               324000.0                 120   \n",
       "4   Personal Loan               100000.0                  36   \n",
       "\n",
       "   interest_rate_offered     purpose_of_loan employment_status  \\\n",
       "0                  11.66   Medical Emergency           Retired   \n",
       "1                  13.62           Education        Unemployed   \n",
       "2                  11.40   Medical Emergency     Self-Employed   \n",
       "3                  10.36  Debt Consolidation     Self-Employed   \n",
       "4                  14.14  Business Expansion          Salaried   \n",
       "\n",
       "   monthly_income  ...  fraud_flag  fraud_type  transaction_amount_sum  \\\n",
       "0         34700.0  ...           0         NaN                 13700.0   \n",
       "1         51600.0  ...           0         NaN                 18700.0   \n",
       "2         14800.0  ...           0         NaN                 13100.0   \n",
       "3         28800.0  ...           0         NaN                  2900.0   \n",
       "4         43900.0  ...           0         NaN                 35600.0   \n",
       "\n",
       "  transaction_amount_mean transaction_amount_max  transaction_amount_min  \\\n",
       "0             6850.000000                 8800.0                  4900.0   \n",
       "1             4675.000000                 9800.0                   900.0   \n",
       "2             3275.000000                 7600.0                   300.0   \n",
       "3             1450.000000                 2200.0                   700.0   \n",
       "4            11866.666667                18500.0                  3300.0   \n",
       "\n",
       "  transaction_id_count  is_international_transaction_sum  \\\n",
       "0                  2.0                               0.0   \n",
       "1                  4.0                               0.0   \n",
       "2                  4.0                               0.0   \n",
       "3                  2.0                               0.0   \n",
       "4                  3.0                               0.0   \n",
       "\n",
       "  account_balance_after_transaction_mean  \\\n",
       "0                            8332.500000   \n",
       "1                           31553.750000   \n",
       "2                           31112.250000   \n",
       "3                           11021.500000   \n",
       "4                           24092.333333   \n",
       "\n",
       "   account_balance_after_transaction_min  \n",
       "0                                    0.0  \n",
       "1                                13656.0  \n",
       "2                                18545.0  \n",
       "3                                 1476.0  \n",
       "4                                    0.0  \n",
       "\n",
       "[5 rows x 29 columns]"
      ]
     },
     "execution_count": 13,
     "metadata": {},
     "output_type": "execute_result"
    }
   ],
   "source": [
    "df.head()"
   ]
  },
  {
   "cell_type": "code",
   "execution_count": 14,
   "metadata": {
    "execution": {
     "iopub.execute_input": "2025-10-15T17:42:06.452565Z",
     "iopub.status.busy": "2025-10-15T17:42:06.451865Z",
     "iopub.status.idle": "2025-10-15T17:42:06.467700Z",
     "shell.execute_reply": "2025-10-15T17:42:06.467182Z",
     "shell.execute_reply.started": "2025-10-15T17:42:06.452540Z"
    },
    "trusted": true
   },
   "outputs": [],
   "source": [
    "df = df.drop(columns=['application_id', 'customer_id', 'application_date']) "
   ]
  },
  {
   "cell_type": "code",
   "execution_count": 15,
   "metadata": {
    "execution": {
     "iopub.execute_input": "2025-10-15T17:42:09.019838Z",
     "iopub.status.busy": "2025-10-15T17:42:09.019559Z",
     "iopub.status.idle": "2025-10-15T17:42:09.222095Z",
     "shell.execute_reply": "2025-10-15T17:42:09.221279Z",
     "shell.execute_reply.started": "2025-10-15T17:42:09.019817Z"
    },
    "trusted": true
   },
   "outputs": [],
   "source": [
    "# Fill missing numeric values with median\n",
    "numeric_cols = df.select_dtypes(include=np.number).columns\n",
    "df[numeric_cols] = df[numeric_cols].fillna(df[numeric_cols].median())\n",
    "\n",
    "# Fill missing categorical values with mode\n",
    "categorical_cols = df.select_dtypes(include='object').columns\n",
    "df[categorical_cols] = df[categorical_cols].fillna(df[categorical_cols].mode().iloc[0])\n",
    "\n",
    "# Encode categorical variables\n",
    "le_dict = {}\n",
    "for col in categorical_cols:\n",
    "    le = LabelEncoder()\n",
    "    df[col] = le.fit_transform(df[col])\n",
    "    le_dict[col] = le"
   ]
  },
  {
   "cell_type": "code",
   "execution_count": 16,
   "metadata": {
    "execution": {
     "iopub.execute_input": "2025-10-15T17:42:11.933741Z",
     "iopub.status.busy": "2025-10-15T17:42:11.933075Z",
     "iopub.status.idle": "2025-10-15T17:42:11.948296Z",
     "shell.execute_reply": "2025-10-15T17:42:11.947544Z",
     "shell.execute_reply.started": "2025-10-15T17:42:11.933714Z"
    },
    "trusted": true
   },
   "outputs": [
    {
     "name": "stdout",
     "output_type": "stream",
     "text": [
      "<class 'pandas.core.frame.DataFrame'>\n",
      "RangeIndex: 50000 entries, 0 to 49999\n",
      "Data columns (total 26 columns):\n",
      " #   Column                                  Non-Null Count  Dtype  \n",
      "---  ------                                  --------------  -----  \n",
      " 0   loan_type                               50000 non-null  int64  \n",
      " 1   loan_amount_requested                   50000 non-null  float64\n",
      " 2   loan_tenure_months                      50000 non-null  int64  \n",
      " 3   interest_rate_offered                   50000 non-null  float64\n",
      " 4   purpose_of_loan                         50000 non-null  int64  \n",
      " 5   employment_status                       50000 non-null  int64  \n",
      " 6   monthly_income                          50000 non-null  float64\n",
      " 7   cibil_score                             50000 non-null  int64  \n",
      " 8   existing_emis_monthly                   50000 non-null  float64\n",
      " 9   debt_to_income_ratio                    50000 non-null  float64\n",
      " 10  property_ownership_status               50000 non-null  int64  \n",
      " 11  residential_address                     50000 non-null  int64  \n",
      " 12  applicant_age                           50000 non-null  int64  \n",
      " 13  gender                                  50000 non-null  int64  \n",
      " 14  number_of_dependents                    50000 non-null  int64  \n",
      " 15  loan_status                             50000 non-null  int64  \n",
      " 16  fraud_flag                              50000 non-null  int64  \n",
      " 17  fraud_type                              50000 non-null  int64  \n",
      " 18  transaction_amount_sum                  50000 non-null  float64\n",
      " 19  transaction_amount_mean                 50000 non-null  float64\n",
      " 20  transaction_amount_max                  50000 non-null  float64\n",
      " 21  transaction_amount_min                  50000 non-null  float64\n",
      " 22  transaction_id_count                    50000 non-null  float64\n",
      " 23  is_international_transaction_sum        50000 non-null  float64\n",
      " 24  account_balance_after_transaction_mean  50000 non-null  float64\n",
      " 25  account_balance_after_transaction_min   50000 non-null  float64\n",
      "dtypes: float64(13), int64(13)\n",
      "memory usage: 9.9 MB\n"
     ]
    }
   ],
   "source": [
    "df.info()"
   ]
  },
  {
   "cell_type": "code",
   "execution_count": 17,
   "metadata": {
    "execution": {
     "iopub.execute_input": "2025-10-15T17:42:14.377279Z",
     "iopub.status.busy": "2025-10-15T17:42:14.377016Z",
     "iopub.status.idle": "2025-10-15T17:42:14.385944Z",
     "shell.execute_reply": "2025-10-15T17:42:14.385416Z",
     "shell.execute_reply.started": "2025-10-15T17:42:14.377259Z"
    },
    "trusted": true
   },
   "outputs": [],
   "source": [
    "leaky_cols = ['fraud_type', 'account_balance_after_transaction_mean', 'account_balance_after_transaction_min']\n",
    "df = df.drop(columns=leaky_cols)"
   ]
  },
  {
   "cell_type": "code",
   "execution_count": 18,
   "metadata": {
    "execution": {
     "iopub.execute_input": "2025-10-15T17:42:16.222328Z",
     "iopub.status.busy": "2025-10-15T17:42:16.221861Z",
     "iopub.status.idle": "2025-10-15T17:42:16.229937Z",
     "shell.execute_reply": "2025-10-15T17:42:16.229411Z",
     "shell.execute_reply.started": "2025-10-15T17:42:16.222306Z"
    },
    "trusted": true
   },
   "outputs": [],
   "source": [
    "df = df.drop(columns=['transaction_id_count', 'residential_address'])"
   ]
  },
  {
   "cell_type": "code",
   "execution_count": 19,
   "metadata": {
    "execution": {
     "iopub.execute_input": "2025-10-15T17:42:17.880082Z",
     "iopub.status.busy": "2025-10-15T17:42:17.879452Z",
     "iopub.status.idle": "2025-10-15T17:42:17.887835Z",
     "shell.execute_reply": "2025-10-15T17:42:17.887142Z",
     "shell.execute_reply.started": "2025-10-15T17:42:17.880058Z"
    },
    "trusted": true
   },
   "outputs": [
    {
     "name": "stdout",
     "output_type": "stream",
     "text": [
      "loan_type                           0\n",
      "loan_amount_requested               0\n",
      "loan_tenure_months                  0\n",
      "interest_rate_offered               0\n",
      "purpose_of_loan                     0\n",
      "employment_status                   0\n",
      "monthly_income                      0\n",
      "cibil_score                         0\n",
      "existing_emis_monthly               0\n",
      "debt_to_income_ratio                0\n",
      "property_ownership_status           0\n",
      "applicant_age                       0\n",
      "gender                              0\n",
      "number_of_dependents                0\n",
      "loan_status                         0\n",
      "fraud_flag                          0\n",
      "transaction_amount_sum              0\n",
      "transaction_amount_mean             0\n",
      "transaction_amount_max              0\n",
      "transaction_amount_min              0\n",
      "is_international_transaction_sum    0\n",
      "dtype: int64\n"
     ]
    }
   ],
   "source": [
    "missing_values = df.isnull().sum()\n",
    "print(missing_values)"
   ]
  },
  {
   "cell_type": "code",
   "execution_count": 20,
   "metadata": {
    "execution": {
     "iopub.execute_input": "2025-10-15T17:42:20.666041Z",
     "iopub.status.busy": "2025-10-15T17:42:20.665731Z",
     "iopub.status.idle": "2025-10-15T17:42:20.686216Z",
     "shell.execute_reply": "2025-10-15T17:42:20.685562Z",
     "shell.execute_reply.started": "2025-10-15T17:42:20.666017Z"
    },
    "trusted": true
   },
   "outputs": [
    {
     "data": {
      "text/html": [
       "<div>\n",
       "<style scoped>\n",
       "    .dataframe tbody tr th:only-of-type {\n",
       "        vertical-align: middle;\n",
       "    }\n",
       "\n",
       "    .dataframe tbody tr th {\n",
       "        vertical-align: top;\n",
       "    }\n",
       "\n",
       "    .dataframe thead th {\n",
       "        text-align: right;\n",
       "    }\n",
       "</style>\n",
       "<table border=\"1\" class=\"dataframe\">\n",
       "  <thead>\n",
       "    <tr style=\"text-align: right;\">\n",
       "      <th></th>\n",
       "      <th>loan_type</th>\n",
       "      <th>loan_amount_requested</th>\n",
       "      <th>loan_tenure_months</th>\n",
       "      <th>interest_rate_offered</th>\n",
       "      <th>purpose_of_loan</th>\n",
       "      <th>employment_status</th>\n",
       "      <th>monthly_income</th>\n",
       "      <th>cibil_score</th>\n",
       "      <th>existing_emis_monthly</th>\n",
       "      <th>debt_to_income_ratio</th>\n",
       "      <th>...</th>\n",
       "      <th>applicant_age</th>\n",
       "      <th>gender</th>\n",
       "      <th>number_of_dependents</th>\n",
       "      <th>loan_status</th>\n",
       "      <th>fraud_flag</th>\n",
       "      <th>transaction_amount_sum</th>\n",
       "      <th>transaction_amount_mean</th>\n",
       "      <th>transaction_amount_max</th>\n",
       "      <th>transaction_amount_min</th>\n",
       "      <th>is_international_transaction_sum</th>\n",
       "    </tr>\n",
       "  </thead>\n",
       "  <tbody>\n",
       "    <tr>\n",
       "      <th>0</th>\n",
       "      <td>0</td>\n",
       "      <td>604000.0</td>\n",
       "      <td>12</td>\n",
       "      <td>11.66</td>\n",
       "      <td>4</td>\n",
       "      <td>1</td>\n",
       "      <td>34700.0</td>\n",
       "      <td>714</td>\n",
       "      <td>1100.0</td>\n",
       "      <td>3.17</td>\n",
       "      <td>...</td>\n",
       "      <td>28</td>\n",
       "      <td>0</td>\n",
       "      <td>3</td>\n",
       "      <td>0</td>\n",
       "      <td>0</td>\n",
       "      <td>13700.0</td>\n",
       "      <td>6850.000000</td>\n",
       "      <td>8800.0</td>\n",
       "      <td>4900.0</td>\n",
       "      <td>0.0</td>\n",
       "    </tr>\n",
       "    <tr>\n",
       "      <th>1</th>\n",
       "      <td>1</td>\n",
       "      <td>100000.0</td>\n",
       "      <td>240</td>\n",
       "      <td>13.62</td>\n",
       "      <td>2</td>\n",
       "      <td>5</td>\n",
       "      <td>51600.0</td>\n",
       "      <td>667</td>\n",
       "      <td>0.0</td>\n",
       "      <td>0.00</td>\n",
       "      <td>...</td>\n",
       "      <td>44</td>\n",
       "      <td>2</td>\n",
       "      <td>3</td>\n",
       "      <td>0</td>\n",
       "      <td>0</td>\n",
       "      <td>18700.0</td>\n",
       "      <td>4675.000000</td>\n",
       "      <td>9800.0</td>\n",
       "      <td>900.0</td>\n",
       "      <td>0.0</td>\n",
       "    </tr>\n",
       "    <tr>\n",
       "      <th>2</th>\n",
       "      <td>2</td>\n",
       "      <td>431000.0</td>\n",
       "      <td>60</td>\n",
       "      <td>11.40</td>\n",
       "      <td>4</td>\n",
       "      <td>3</td>\n",
       "      <td>14800.0</td>\n",
       "      <td>808</td>\n",
       "      <td>4600.0</td>\n",
       "      <td>31.08</td>\n",
       "      <td>...</td>\n",
       "      <td>56</td>\n",
       "      <td>2</td>\n",
       "      <td>4</td>\n",
       "      <td>0</td>\n",
       "      <td>0</td>\n",
       "      <td>13100.0</td>\n",
       "      <td>3275.000000</td>\n",
       "      <td>7600.0</td>\n",
       "      <td>300.0</td>\n",
       "      <td>0.0</td>\n",
       "    </tr>\n",
       "    <tr>\n",
       "      <th>3</th>\n",
       "      <td>1</td>\n",
       "      <td>324000.0</td>\n",
       "      <td>120</td>\n",
       "      <td>10.36</td>\n",
       "      <td>1</td>\n",
       "      <td>3</td>\n",
       "      <td>28800.0</td>\n",
       "      <td>647</td>\n",
       "      <td>4000.0</td>\n",
       "      <td>13.89</td>\n",
       "      <td>...</td>\n",
       "      <td>27</td>\n",
       "      <td>2</td>\n",
       "      <td>4</td>\n",
       "      <td>1</td>\n",
       "      <td>0</td>\n",
       "      <td>2900.0</td>\n",
       "      <td>1450.000000</td>\n",
       "      <td>2200.0</td>\n",
       "      <td>700.0</td>\n",
       "      <td>0.0</td>\n",
       "    </tr>\n",
       "    <tr>\n",
       "      <th>4</th>\n",
       "      <td>4</td>\n",
       "      <td>100000.0</td>\n",
       "      <td>36</td>\n",
       "      <td>14.14</td>\n",
       "      <td>0</td>\n",
       "      <td>2</td>\n",
       "      <td>43900.0</td>\n",
       "      <td>624</td>\n",
       "      <td>1100.0</td>\n",
       "      <td>2.51</td>\n",
       "      <td>...</td>\n",
       "      <td>50</td>\n",
       "      <td>2</td>\n",
       "      <td>0</td>\n",
       "      <td>1</td>\n",
       "      <td>0</td>\n",
       "      <td>35600.0</td>\n",
       "      <td>11866.666667</td>\n",
       "      <td>18500.0</td>\n",
       "      <td>3300.0</td>\n",
       "      <td>0.0</td>\n",
       "    </tr>\n",
       "  </tbody>\n",
       "</table>\n",
       "<p>5 rows × 21 columns</p>\n",
       "</div>"
      ],
      "text/plain": [
       "   loan_type  loan_amount_requested  loan_tenure_months  \\\n",
       "0          0               604000.0                  12   \n",
       "1          1               100000.0                 240   \n",
       "2          2               431000.0                  60   \n",
       "3          1               324000.0                 120   \n",
       "4          4               100000.0                  36   \n",
       "\n",
       "   interest_rate_offered  purpose_of_loan  employment_status  monthly_income  \\\n",
       "0                  11.66                4                  1         34700.0   \n",
       "1                  13.62                2                  5         51600.0   \n",
       "2                  11.40                4                  3         14800.0   \n",
       "3                  10.36                1                  3         28800.0   \n",
       "4                  14.14                0                  2         43900.0   \n",
       "\n",
       "   cibil_score  existing_emis_monthly  debt_to_income_ratio  ...  \\\n",
       "0          714                 1100.0                  3.17  ...   \n",
       "1          667                    0.0                  0.00  ...   \n",
       "2          808                 4600.0                 31.08  ...   \n",
       "3          647                 4000.0                 13.89  ...   \n",
       "4          624                 1100.0                  2.51  ...   \n",
       "\n",
       "   applicant_age  gender  number_of_dependents  loan_status  fraud_flag  \\\n",
       "0             28       0                     3            0           0   \n",
       "1             44       2                     3            0           0   \n",
       "2             56       2                     4            0           0   \n",
       "3             27       2                     4            1           0   \n",
       "4             50       2                     0            1           0   \n",
       "\n",
       "   transaction_amount_sum  transaction_amount_mean  transaction_amount_max  \\\n",
       "0                 13700.0              6850.000000                  8800.0   \n",
       "1                 18700.0              4675.000000                  9800.0   \n",
       "2                 13100.0              3275.000000                  7600.0   \n",
       "3                  2900.0              1450.000000                  2200.0   \n",
       "4                 35600.0             11866.666667                 18500.0   \n",
       "\n",
       "   transaction_amount_min  is_international_transaction_sum  \n",
       "0                  4900.0                               0.0  \n",
       "1                   900.0                               0.0  \n",
       "2                   300.0                               0.0  \n",
       "3                   700.0                               0.0  \n",
       "4                  3300.0                               0.0  \n",
       "\n",
       "[5 rows x 21 columns]"
      ]
     },
     "execution_count": 20,
     "metadata": {},
     "output_type": "execute_result"
    }
   ],
   "source": [
    "df.head()"
   ]
  },
  {
   "cell_type": "code",
   "execution_count": 21,
   "metadata": {
    "execution": {
     "iopub.execute_input": "2025-10-15T17:42:23.939386Z",
     "iopub.status.busy": "2025-10-15T17:42:23.939123Z",
     "iopub.status.idle": "2025-10-15T17:42:23.943996Z",
     "shell.execute_reply": "2025-10-15T17:42:23.943289Z",
     "shell.execute_reply.started": "2025-10-15T17:42:23.939365Z"
    },
    "trusted": true
   },
   "outputs": [
    {
     "data": {
      "text/plain": [
       "(50000, 21)"
      ]
     },
     "execution_count": 21,
     "metadata": {},
     "output_type": "execute_result"
    }
   ],
   "source": [
    "df.shape"
   ]
  },
  {
   "cell_type": "code",
   "execution_count": 22,
   "metadata": {
    "execution": {
     "iopub.execute_input": "2025-10-15T17:42:25.582790Z",
     "iopub.status.busy": "2025-10-15T17:42:25.582342Z",
     "iopub.status.idle": "2025-10-15T17:42:25.590670Z",
     "shell.execute_reply": "2025-10-15T17:42:25.590018Z",
     "shell.execute_reply.started": "2025-10-15T17:42:25.582767Z"
    },
    "trusted": true
   },
   "outputs": [],
   "source": [
    "y = df[\"fraud_flag\"]\n",
    "X = df.drop(columns=[\"fraud_flag\"])"
   ]
  },
  {
   "cell_type": "code",
   "execution_count": 23,
   "metadata": {
    "execution": {
     "iopub.execute_input": "2025-10-15T17:42:30.182034Z",
     "iopub.status.busy": "2025-10-15T17:42:30.181450Z",
     "iopub.status.idle": "2025-10-15T17:42:30.284107Z",
     "shell.execute_reply": "2025-10-15T17:42:30.283478Z",
     "shell.execute_reply.started": "2025-10-15T17:42:30.182012Z"
    },
    "trusted": true
   },
   "outputs": [],
   "source": [
    "# Standardize\n",
    "scaler = StandardScaler()\n",
    "X_scaled = scaler.fit_transform(X)"
   ]
  },
  {
   "cell_type": "code",
   "execution_count": 24,
   "metadata": {
    "execution": {
     "iopub.execute_input": "2025-10-15T17:42:32.695095Z",
     "iopub.status.busy": "2025-10-15T17:42:32.694490Z",
     "iopub.status.idle": "2025-10-15T17:42:32.699317Z",
     "shell.execute_reply": "2025-10-15T17:42:32.698729Z",
     "shell.execute_reply.started": "2025-10-15T17:42:32.695070Z"
    },
    "trusted": true
   },
   "outputs": [],
   "source": [
    "# Separate minority class\n",
    "X_minority = X_scaled[y == 1]\n",
    "\n",
    "input_dim = X_minority.shape[1]\n",
    "latent_dim = 10  # can tune"
   ]
  },
  {
   "cell_type": "markdown",
   "metadata": {},
   "source": [
    "### Using Varitional Autoencoder "
   ]
  },
  {
   "cell_type": "code",
   "execution_count": 25,
   "metadata": {
    "execution": {
     "iopub.execute_input": "2025-10-15T17:42:35.940293Z",
     "iopub.status.busy": "2025-10-15T17:42:35.939724Z",
     "iopub.status.idle": "2025-10-15T17:42:39.602540Z",
     "shell.execute_reply": "2025-10-15T17:42:39.601925Z",
     "shell.execute_reply.started": "2025-10-15T17:42:35.940264Z"
    },
    "trusted": true
   },
   "outputs": [],
   "source": [
    "import pandas as pd\n",
    "import numpy as np\n",
    "import torch\n",
    "import torch.nn as nn\n",
    "import torch.optim as optim\n",
    "from sklearn.preprocessing import StandardScaler, LabelEncoder\n",
    "from sklearn.model_selection import train_test_split"
   ]
  },
  {
   "cell_type": "code",
   "execution_count": 27,
   "metadata": {
    "execution": {
     "iopub.execute_input": "2025-10-15T17:42:43.467521Z",
     "iopub.status.busy": "2025-10-15T17:42:43.466809Z",
     "iopub.status.idle": "2025-10-15T17:42:43.473635Z",
     "shell.execute_reply": "2025-10-15T17:42:43.472845Z",
     "shell.execute_reply.started": "2025-10-15T17:42:43.467496Z"
    },
    "trusted": true
   },
   "outputs": [],
   "source": [
    "class VAE(nn.Module):\n",
    "    def __init__(self, input_dim, latent_dim=10):\n",
    "        super(VAE, self).__init__()\n",
    "        # Encoder\n",
    "        self.encoder = nn.Sequential(\n",
    "            nn.Linear(input_dim, 64),\n",
    "            nn.ReLU(),\n",
    "            nn.Linear(64, 32),\n",
    "            nn.ReLU()\n",
    "        )\n",
    "        self.mu = nn.Linear(32, latent_dim)\n",
    "        self.log_var = nn.Linear(32, latent_dim)\n",
    "\n",
    "        # Decoder\n",
    "        self.decoder = nn.Sequential(\n",
    "            nn.Linear(latent_dim, 32),\n",
    "            nn.ReLU(),\n",
    "            nn.Linear(32, 64),\n",
    "            nn.ReLU(),\n",
    "            nn.Linear(64, input_dim)\n",
    "        )\n",
    "\n",
    "    def encode(self, x):\n",
    "        h = self.encoder(x)\n",
    "        return self.mu(h), self.log_var(h)\n",
    "\n",
    "    def reparameterize(self, mu, log_var):\n",
    "        std = torch.exp(0.5 * log_var)\n",
    "        eps = torch.randn_like(std)\n",
    "        return mu + eps * std\n",
    "\n",
    "    def decode(self, z):\n",
    "        return self.decoder(z)\n",
    "\n",
    "    def forward(self, x):\n",
    "        mu, log_var = self.encode(x)\n",
    "        z = self.reparameterize(mu, log_var)\n",
    "        x_recon = self.decode(z)\n",
    "        return x_recon, mu, log_var"
   ]
  },
  {
   "cell_type": "code",
   "execution_count": 28,
   "metadata": {
    "execution": {
     "iopub.execute_input": "2025-10-15T17:42:46.980071Z",
     "iopub.status.busy": "2025-10-15T17:42:46.979780Z",
     "iopub.status.idle": "2025-10-15T17:42:51.603203Z",
     "shell.execute_reply": "2025-10-15T17:42:51.602609Z",
     "shell.execute_reply.started": "2025-10-15T17:42:46.980050Z"
    },
    "trusted": true
   },
   "outputs": [],
   "source": [
    "device = torch.device(\"cuda\" if torch.cuda.is_available() else \"cpu\")\n",
    "model = VAE(input_dim, latent_dim).to(device)\n",
    "optimizer = optim.Adam(model.parameters(), lr=0.001)\n",
    "loss_fn = nn.MSELoss()"
   ]
  },
  {
   "cell_type": "code",
   "execution_count": 29,
   "metadata": {
    "execution": {
     "iopub.execute_input": "2025-10-15T17:42:57.877556Z",
     "iopub.status.busy": "2025-10-15T17:42:57.877158Z",
     "iopub.status.idle": "2025-10-15T17:42:57.882520Z",
     "shell.execute_reply": "2025-10-15T17:42:57.881926Z",
     "shell.execute_reply.started": "2025-10-15T17:42:57.877535Z"
    },
    "trusted": true
   },
   "outputs": [],
   "source": [
    "X_tensor = torch.tensor(X_minority, dtype=torch.float32).to(device)"
   ]
  },
  {
   "cell_type": "code",
   "execution_count": 33,
   "metadata": {
    "execution": {
     "iopub.execute_input": "2025-10-15T17:43:29.147899Z",
     "iopub.status.busy": "2025-10-15T17:43:29.147658Z",
     "iopub.status.idle": "2025-10-15T17:43:29.151479Z",
     "shell.execute_reply": "2025-10-15T17:43:29.150649Z",
     "shell.execute_reply.started": "2025-10-15T17:43:29.147883Z"
    },
    "trusted": true
   },
   "outputs": [],
   "source": [
    "epochs=500"
   ]
  },
  {
   "cell_type": "code",
   "execution_count": 34,
   "metadata": {
    "execution": {
     "iopub.execute_input": "2025-10-15T17:43:39.230007Z",
     "iopub.status.busy": "2025-10-15T17:43:39.229311Z",
     "iopub.status.idle": "2025-10-15T17:43:40.435561Z",
     "shell.execute_reply": "2025-10-15T17:43:40.435029Z",
     "shell.execute_reply.started": "2025-10-15T17:43:39.229981Z"
    },
    "trusted": true
   },
   "outputs": [
    {
     "name": "stdout",
     "output_type": "stream",
     "text": [
      "Epoch [10/500] Loss: 2.0304\n",
      "Epoch [20/500] Loss: 1.5495\n",
      "Epoch [30/500] Loss: 1.3609\n",
      "Epoch [40/500] Loss: 1.2796\n",
      "Epoch [50/500] Loss: 1.1931\n",
      "Epoch [60/500] Loss: 1.0780\n",
      "Epoch [70/500] Loss: 0.9655\n",
      "Epoch [80/500] Loss: 0.9101\n",
      "Epoch [90/500] Loss: 0.8747\n",
      "Epoch [100/500] Loss: 0.8267\n",
      "Epoch [110/500] Loss: 0.7670\n",
      "Epoch [120/500] Loss: 0.7129\n",
      "Epoch [130/500] Loss: 0.6678\n",
      "Epoch [140/500] Loss: 0.6229\n",
      "Epoch [150/500] Loss: 0.5821\n",
      "Epoch [160/500] Loss: 0.5464\n",
      "Epoch [170/500] Loss: 0.5253\n",
      "Epoch [180/500] Loss: 0.4997\n",
      "Epoch [190/500] Loss: 0.4804\n",
      "Epoch [200/500] Loss: 0.4659\n",
      "Epoch [210/500] Loss: 0.4488\n",
      "Epoch [220/500] Loss: 0.4289\n",
      "Epoch [230/500] Loss: 0.4147\n",
      "Epoch [240/500] Loss: 0.4070\n",
      "Epoch [250/500] Loss: 0.4014\n",
      "Epoch [260/500] Loss: 0.3966\n",
      "Epoch [270/500] Loss: 0.3915\n",
      "Epoch [280/500] Loss: 0.3850\n",
      "Epoch [290/500] Loss: 0.3760\n",
      "Epoch [300/500] Loss: 0.3633\n",
      "Epoch [310/500] Loss: 0.3531\n",
      "Epoch [320/500] Loss: 0.3476\n",
      "Epoch [330/500] Loss: 0.3436\n",
      "Epoch [340/500] Loss: 0.3393\n",
      "Epoch [350/500] Loss: 0.3343\n",
      "Epoch [360/500] Loss: 0.3284\n",
      "Epoch [370/500] Loss: 0.3219\n",
      "Epoch [380/500] Loss: 0.3153\n",
      "Epoch [390/500] Loss: 0.3090\n",
      "Epoch [400/500] Loss: 0.3035\n",
      "Epoch [410/500] Loss: 0.2986\n",
      "Epoch [420/500] Loss: 0.2946\n",
      "Epoch [430/500] Loss: 0.2911\n",
      "Epoch [440/500] Loss: 0.2882\n",
      "Epoch [450/500] Loss: 0.2857\n",
      "Epoch [460/500] Loss: 0.2830\n",
      "Epoch [470/500] Loss: 0.2808\n",
      "Epoch [480/500] Loss: 0.2784\n",
      "Epoch [490/500] Loss: 0.2761\n",
      "Epoch [500/500] Loss: 0.2737\n"
     ]
    }
   ],
   "source": [
    "for epoch in range(epochs):\n",
    "    model.train()\n",
    "    optimizer.zero_grad()\n",
    "    recon, mu, log_var = model(X_tensor)\n",
    "    recon_loss = loss_fn(recon, X_tensor)\n",
    "    kl_loss = -0.5 * torch.mean(1 + log_var - mu.pow(2) - log_var.exp())\n",
    "    loss = recon_loss + 0.001 * kl_loss  # KL term weighted\n",
    "    loss.backward()\n",
    "    optimizer.step()\n",
    "    if (epoch + 1) % 10 == 0:\n",
    "        print(f\"Epoch [{epoch+1}/{epochs}] Loss: {loss.item():.4f}\")"
   ]
  },
  {
   "cell_type": "markdown",
   "metadata": {},
   "source": [
    "### Generating Synthetic data "
   ]
  },
  {
   "cell_type": "code",
   "execution_count": 35,
   "metadata": {
    "execution": {
     "iopub.execute_input": "2025-10-15T17:43:50.508236Z",
     "iopub.status.busy": "2025-10-15T17:43:50.507531Z",
     "iopub.status.idle": "2025-10-15T17:43:50.522272Z",
     "shell.execute_reply": "2025-10-15T17:43:50.521639Z",
     "shell.execute_reply.started": "2025-10-15T17:43:50.508213Z"
    },
    "trusted": true
   },
   "outputs": [],
   "source": [
    "model.eval()\n",
    "num_synthetic = 48000  \n",
    "z = torch.randn(num_synthetic, latent_dim).to(device)\n",
    "synthetic_samples = model.decode(z).detach().cpu().numpy()"
   ]
  },
  {
   "cell_type": "code",
   "execution_count": 36,
   "metadata": {
    "execution": {
     "iopub.execute_input": "2025-10-15T17:43:52.941000Z",
     "iopub.status.busy": "2025-10-15T17:43:52.940548Z",
     "iopub.status.idle": "2025-10-15T17:43:52.984075Z",
     "shell.execute_reply": "2025-10-15T17:43:52.983477Z",
     "shell.execute_reply.started": "2025-10-15T17:43:52.940950Z"
    },
    "trusted": true
   },
   "outputs": [],
   "source": [
    "# Inverse scale\n",
    "synthetic_samples = scaler.inverse_transform(synthetic_samples)\n",
    "synthetic_df = pd.DataFrame(synthetic_samples, columns=X.columns)\n",
    "synthetic_df[\"fraud_flag\"] = 1"
   ]
  },
  {
   "cell_type": "code",
   "execution_count": 37,
   "metadata": {
    "execution": {
     "iopub.execute_input": "2025-10-15T17:43:55.527129Z",
     "iopub.status.busy": "2025-10-15T17:43:55.526506Z",
     "iopub.status.idle": "2025-10-15T17:43:55.570915Z",
     "shell.execute_reply": "2025-10-15T17:43:55.570283Z",
     "shell.execute_reply.started": "2025-10-15T17:43:55.527102Z"
    },
    "trusted": true
   },
   "outputs": [
    {
     "name": "stdout",
     "output_type": "stream",
     "text": [
      "✅ Final balanced dataset shape: (96974, 21)\n",
      "fraud_flag\n",
      "0    48974\n",
      "1    48000\n",
      "Name: count, dtype: int64\n"
     ]
    }
   ],
   "source": [
    "X_majority = df[y == 0].copy()\n",
    "final_df = pd.concat([X_majority, synthetic_df], ignore_index=True)\n",
    "print(\"✅ Final balanced dataset shape:\", final_df.shape)\n",
    "print(final_df[\"fraud_flag\"].value_counts())"
   ]
  },
  {
   "cell_type": "code",
   "execution_count": 39,
   "metadata": {
    "execution": {
     "iopub.execute_input": "2025-10-10T14:18:35.787068Z",
     "iopub.status.busy": "2025-10-10T14:18:35.786401Z",
     "iopub.status.idle": "2025-10-10T14:18:35.809102Z",
     "shell.execute_reply": "2025-10-10T14:18:35.808524Z",
     "shell.execute_reply.started": "2025-10-10T14:18:35.787046Z"
    },
    "trusted": true
   },
   "outputs": [
    {
     "data": {
      "text/html": [
       "<div>\n",
       "<style scoped>\n",
       "    .dataframe tbody tr th:only-of-type {\n",
       "        vertical-align: middle;\n",
       "    }\n",
       "\n",
       "    .dataframe tbody tr th {\n",
       "        vertical-align: top;\n",
       "    }\n",
       "\n",
       "    .dataframe thead th {\n",
       "        text-align: right;\n",
       "    }\n",
       "</style>\n",
       "<table border=\"1\" class=\"dataframe\">\n",
       "  <thead>\n",
       "    <tr style=\"text-align: right;\">\n",
       "      <th></th>\n",
       "      <th>loan_type</th>\n",
       "      <th>loan_amount_requested</th>\n",
       "      <th>loan_tenure_months</th>\n",
       "      <th>interest_rate_offered</th>\n",
       "      <th>purpose_of_loan</th>\n",
       "      <th>employment_status</th>\n",
       "      <th>monthly_income</th>\n",
       "      <th>cibil_score</th>\n",
       "      <th>existing_emis_monthly</th>\n",
       "      <th>debt_to_income_ratio</th>\n",
       "      <th>...</th>\n",
       "      <th>applicant_age</th>\n",
       "      <th>gender</th>\n",
       "      <th>number_of_dependents</th>\n",
       "      <th>loan_status</th>\n",
       "      <th>fraud_flag</th>\n",
       "      <th>transaction_amount_sum</th>\n",
       "      <th>transaction_amount_mean</th>\n",
       "      <th>transaction_amount_max</th>\n",
       "      <th>transaction_amount_min</th>\n",
       "      <th>is_international_transaction_sum</th>\n",
       "    </tr>\n",
       "  </thead>\n",
       "  <tbody>\n",
       "    <tr>\n",
       "      <th>0</th>\n",
       "      <td>0.0</td>\n",
       "      <td>604000.0</td>\n",
       "      <td>12.0</td>\n",
       "      <td>11.66</td>\n",
       "      <td>4.0</td>\n",
       "      <td>1.0</td>\n",
       "      <td>34700.0</td>\n",
       "      <td>714.0</td>\n",
       "      <td>1100.0</td>\n",
       "      <td>3.17</td>\n",
       "      <td>...</td>\n",
       "      <td>28.0</td>\n",
       "      <td>0.0</td>\n",
       "      <td>3.0</td>\n",
       "      <td>0.0</td>\n",
       "      <td>0</td>\n",
       "      <td>13700.0</td>\n",
       "      <td>6850.000000</td>\n",
       "      <td>8800.0</td>\n",
       "      <td>4900.0</td>\n",
       "      <td>0.0</td>\n",
       "    </tr>\n",
       "    <tr>\n",
       "      <th>1</th>\n",
       "      <td>1.0</td>\n",
       "      <td>100000.0</td>\n",
       "      <td>240.0</td>\n",
       "      <td>13.62</td>\n",
       "      <td>2.0</td>\n",
       "      <td>5.0</td>\n",
       "      <td>51600.0</td>\n",
       "      <td>667.0</td>\n",
       "      <td>0.0</td>\n",
       "      <td>0.00</td>\n",
       "      <td>...</td>\n",
       "      <td>44.0</td>\n",
       "      <td>2.0</td>\n",
       "      <td>3.0</td>\n",
       "      <td>0.0</td>\n",
       "      <td>0</td>\n",
       "      <td>18700.0</td>\n",
       "      <td>4675.000000</td>\n",
       "      <td>9800.0</td>\n",
       "      <td>900.0</td>\n",
       "      <td>0.0</td>\n",
       "    </tr>\n",
       "    <tr>\n",
       "      <th>2</th>\n",
       "      <td>2.0</td>\n",
       "      <td>431000.0</td>\n",
       "      <td>60.0</td>\n",
       "      <td>11.40</td>\n",
       "      <td>4.0</td>\n",
       "      <td>3.0</td>\n",
       "      <td>14800.0</td>\n",
       "      <td>808.0</td>\n",
       "      <td>4600.0</td>\n",
       "      <td>31.08</td>\n",
       "      <td>...</td>\n",
       "      <td>56.0</td>\n",
       "      <td>2.0</td>\n",
       "      <td>4.0</td>\n",
       "      <td>0.0</td>\n",
       "      <td>0</td>\n",
       "      <td>13100.0</td>\n",
       "      <td>3275.000000</td>\n",
       "      <td>7600.0</td>\n",
       "      <td>300.0</td>\n",
       "      <td>0.0</td>\n",
       "    </tr>\n",
       "    <tr>\n",
       "      <th>3</th>\n",
       "      <td>1.0</td>\n",
       "      <td>324000.0</td>\n",
       "      <td>120.0</td>\n",
       "      <td>10.36</td>\n",
       "      <td>1.0</td>\n",
       "      <td>3.0</td>\n",
       "      <td>28800.0</td>\n",
       "      <td>647.0</td>\n",
       "      <td>4000.0</td>\n",
       "      <td>13.89</td>\n",
       "      <td>...</td>\n",
       "      <td>27.0</td>\n",
       "      <td>2.0</td>\n",
       "      <td>4.0</td>\n",
       "      <td>1.0</td>\n",
       "      <td>0</td>\n",
       "      <td>2900.0</td>\n",
       "      <td>1450.000000</td>\n",
       "      <td>2200.0</td>\n",
       "      <td>700.0</td>\n",
       "      <td>0.0</td>\n",
       "    </tr>\n",
       "    <tr>\n",
       "      <th>4</th>\n",
       "      <td>4.0</td>\n",
       "      <td>100000.0</td>\n",
       "      <td>36.0</td>\n",
       "      <td>14.14</td>\n",
       "      <td>0.0</td>\n",
       "      <td>2.0</td>\n",
       "      <td>43900.0</td>\n",
       "      <td>624.0</td>\n",
       "      <td>1100.0</td>\n",
       "      <td>2.51</td>\n",
       "      <td>...</td>\n",
       "      <td>50.0</td>\n",
       "      <td>2.0</td>\n",
       "      <td>0.0</td>\n",
       "      <td>1.0</td>\n",
       "      <td>0</td>\n",
       "      <td>35600.0</td>\n",
       "      <td>11866.666667</td>\n",
       "      <td>18500.0</td>\n",
       "      <td>3300.0</td>\n",
       "      <td>0.0</td>\n",
       "    </tr>\n",
       "  </tbody>\n",
       "</table>\n",
       "<p>5 rows × 21 columns</p>\n",
       "</div>"
      ],
      "text/plain": [
       "   loan_type  loan_amount_requested  loan_tenure_months  \\\n",
       "0        0.0               604000.0                12.0   \n",
       "1        1.0               100000.0               240.0   \n",
       "2        2.0               431000.0                60.0   \n",
       "3        1.0               324000.0               120.0   \n",
       "4        4.0               100000.0                36.0   \n",
       "\n",
       "   interest_rate_offered  purpose_of_loan  employment_status  monthly_income  \\\n",
       "0                  11.66              4.0                1.0         34700.0   \n",
       "1                  13.62              2.0                5.0         51600.0   \n",
       "2                  11.40              4.0                3.0         14800.0   \n",
       "3                  10.36              1.0                3.0         28800.0   \n",
       "4                  14.14              0.0                2.0         43900.0   \n",
       "\n",
       "   cibil_score  existing_emis_monthly  debt_to_income_ratio  ...  \\\n",
       "0        714.0                 1100.0                  3.17  ...   \n",
       "1        667.0                    0.0                  0.00  ...   \n",
       "2        808.0                 4600.0                 31.08  ...   \n",
       "3        647.0                 4000.0                 13.89  ...   \n",
       "4        624.0                 1100.0                  2.51  ...   \n",
       "\n",
       "   applicant_age  gender  number_of_dependents  loan_status  fraud_flag  \\\n",
       "0           28.0     0.0                   3.0          0.0           0   \n",
       "1           44.0     2.0                   3.0          0.0           0   \n",
       "2           56.0     2.0                   4.0          0.0           0   \n",
       "3           27.0     2.0                   4.0          1.0           0   \n",
       "4           50.0     2.0                   0.0          1.0           0   \n",
       "\n",
       "   transaction_amount_sum  transaction_amount_mean  transaction_amount_max  \\\n",
       "0                 13700.0              6850.000000                  8800.0   \n",
       "1                 18700.0              4675.000000                  9800.0   \n",
       "2                 13100.0              3275.000000                  7600.0   \n",
       "3                  2900.0              1450.000000                  2200.0   \n",
       "4                 35600.0             11866.666667                 18500.0   \n",
       "\n",
       "   transaction_amount_min  is_international_transaction_sum  \n",
       "0                  4900.0                               0.0  \n",
       "1                   900.0                               0.0  \n",
       "2                   300.0                               0.0  \n",
       "3                   700.0                               0.0  \n",
       "4                  3300.0                               0.0  \n",
       "\n",
       "[5 rows x 21 columns]"
      ]
     },
     "execution_count": 39,
     "metadata": {},
     "output_type": "execute_result"
    }
   ],
   "source": [
    "final_df.head()"
   ]
  },
  {
   "cell_type": "code",
   "execution_count": 40,
   "metadata": {
    "execution": {
     "iopub.execute_input": "2025-10-10T14:18:45.359616Z",
     "iopub.status.busy": "2025-10-10T14:18:45.359161Z",
     "iopub.status.idle": "2025-10-10T14:18:45.364333Z",
     "shell.execute_reply": "2025-10-10T14:18:45.363666Z",
     "shell.execute_reply.started": "2025-10-10T14:18:45.359594Z"
    },
    "trusted": true
   },
   "outputs": [
    {
     "data": {
      "text/plain": [
       "(96974, 21)"
      ]
     },
     "execution_count": 40,
     "metadata": {},
     "output_type": "execute_result"
    }
   ],
   "source": [
    "final_df.shape"
   ]
  },
  {
   "cell_type": "code",
   "execution_count": 47,
   "metadata": {
    "execution": {
     "iopub.execute_input": "2025-10-10T14:24:52.572642Z",
     "iopub.status.busy": "2025-10-10T14:24:52.572359Z",
     "iopub.status.idle": "2025-10-10T14:24:52.576388Z",
     "shell.execute_reply": "2025-10-10T14:24:52.575748Z",
     "shell.execute_reply.started": "2025-10-10T14:24:52.572624Z"
    },
    "trusted": true
   },
   "outputs": [],
   "source": [
    "from sklearn.model_selection import train_test_split"
   ]
  },
  {
   "cell_type": "code",
   "execution_count": null,
   "metadata": {
    "trusted": true
   },
   "outputs": [],
   "source": [
    "# Split data\n",
    "X_train, X_test, y_train, y_test = train_test_split(\n",
    "    final_df.drop(columns=[\"fraud_flag\"]), \n",
    "    final_df[\"fraud_flag\"], \n",
    "    test_size=0.3, \n",
    "    random_state=42\n",
    ")"
   ]
  },
  {
   "cell_type": "code",
   "execution_count": 50,
   "metadata": {
    "execution": {
     "iopub.execute_input": "2025-10-10T14:31:08.088123Z",
     "iopub.status.busy": "2025-10-10T14:31:08.087418Z",
     "iopub.status.idle": "2025-10-10T14:31:09.196318Z",
     "shell.execute_reply": "2025-10-10T14:31:09.195529Z",
     "shell.execute_reply.started": "2025-10-10T14:31:08.088098Z"
    },
    "trusted": true
   },
   "outputs": [
    {
     "name": "stdout",
     "output_type": "stream",
     "text": [
      "                             feature        VIF\n",
      "7                        cibil_score  94.958591\n",
      "16           transaction_amount_mean  90.000638\n",
      "17            transaction_amount_max  48.362335\n",
      "3              interest_rate_offered  45.915247\n",
      "11                     applicant_age  18.914311\n",
      "18            transaction_amount_min  15.016016\n",
      "15            transaction_amount_sum  14.594819\n",
      "6                     monthly_income  13.994448\n",
      "8              existing_emis_monthly   9.516431\n",
      "1              loan_amount_requested   6.676139\n",
      "9               debt_to_income_ratio   5.868578\n",
      "13              number_of_dependents   4.760440\n",
      "5                  employment_status   4.662695\n",
      "12                            gender   4.514208\n",
      "0                          loan_type   4.265316\n",
      "10         property_ownership_status   4.251647\n",
      "4                    purpose_of_loan   4.145096\n",
      "2                 loan_tenure_months   3.507952\n",
      "14                       loan_status   2.379559\n",
      "19  is_international_transaction_sum   1.060384\n"
     ]
    }
   ],
   "source": [
    "from statsmodels.stats.outliers_influence import variance_inflation_factor\n",
    "import pandas as pd\n",
    "\n",
    "# Ensure X_train has only numeric columns\n",
    "X_numeric = X_train.select_dtypes(include=[float, int]).copy()\n",
    "\n",
    "vif_data = pd.DataFrame()\n",
    "vif_data['feature'] = X_numeric.columns\n",
    "vif_data['VIF'] = [variance_inflation_factor(X_numeric.values, i) for i in range(X_numeric.shape[1])]\n",
    "\n",
    "# Sort by highest VIF\n",
    "vif_data = vif_data.sort_values(by='VIF', ascending=False)\n",
    "print(vif_data)\n"
   ]
  },
  {
   "cell_type": "markdown",
   "metadata": {},
   "source": [
    "### Dropping high VIF variables"
   ]
  },
  {
   "cell_type": "code",
   "execution_count": 52,
   "metadata": {
    "execution": {
     "iopub.execute_input": "2025-10-10T14:33:42.525335Z",
     "iopub.status.busy": "2025-10-10T14:33:42.524683Z",
     "iopub.status.idle": "2025-10-10T14:33:42.533986Z",
     "shell.execute_reply": "2025-10-10T14:33:42.532999Z",
     "shell.execute_reply.started": "2025-10-10T14:33:42.525308Z"
    },
    "trusted": true
   },
   "outputs": [],
   "source": [
    "high_vif_features = [\n",
    "    'cibil_score', \n",
    "    'transaction_amount_mean', \n",
    "    'transaction_amount_max', \n",
    "    'transaction_amount_min',\n",
    "    'transaction_amount_sum', \n",
    "    'interest_rate_offered', \n",
    "    'monthly_income', \n",
    "    'existing_emis_monthly',\n",
    "    'loan_amount_requested', \n",
    "    'debt_to_income_ratio', \n",
    "    'applicant_age'\n",
    "]\n",
    "\n",
    "X_train_low_vif = X_train.drop(columns=high_vif_features)\n",
    "X_test_low_vif = X_test[X_train_low_vif.columns]  "
   ]
  },
  {
   "cell_type": "code",
   "execution_count": 53,
   "metadata": {
    "execution": {
     "iopub.execute_input": "2025-10-10T14:33:44.904869Z",
     "iopub.status.busy": "2025-10-10T14:33:44.904261Z",
     "iopub.status.idle": "2025-10-10T14:33:44.924905Z",
     "shell.execute_reply": "2025-10-10T14:33:44.924339Z",
     "shell.execute_reply.started": "2025-10-10T14:33:44.904824Z"
    },
    "trusted": true
   },
   "outputs": [],
   "source": [
    "scaler = StandardScaler()\n",
    "X_train_scaled = scaler.fit_transform(X_train_low_vif)\n",
    "X_test_scaled = scaler.transform(X_test_low_vif)"
   ]
  },
  {
   "cell_type": "markdown",
   "metadata": {},
   "source": [
    "## Fit logistic regression"
   ]
  },
  {
   "cell_type": "code",
   "execution_count": 54,
   "metadata": {
    "execution": {
     "iopub.execute_input": "2025-10-10T14:34:19.217829Z",
     "iopub.status.busy": "2025-10-10T14:34:19.217140Z",
     "iopub.status.idle": "2025-10-10T14:34:19.291368Z",
     "shell.execute_reply": "2025-10-10T14:34:19.290662Z",
     "shell.execute_reply.started": "2025-10-10T14:34:19.217805Z"
    },
    "trusted": true
   },
   "outputs": [
    {
     "data": {
      "text/html": [
       "<style>#sk-container-id-1 {color: black;background-color: white;}#sk-container-id-1 pre{padding: 0;}#sk-container-id-1 div.sk-toggleable {background-color: white;}#sk-container-id-1 label.sk-toggleable__label {cursor: pointer;display: block;width: 100%;margin-bottom: 0;padding: 0.3em;box-sizing: border-box;text-align: center;}#sk-container-id-1 label.sk-toggleable__label-arrow:before {content: \"▸\";float: left;margin-right: 0.25em;color: #696969;}#sk-container-id-1 label.sk-toggleable__label-arrow:hover:before {color: black;}#sk-container-id-1 div.sk-estimator:hover label.sk-toggleable__label-arrow:before {color: black;}#sk-container-id-1 div.sk-toggleable__content {max-height: 0;max-width: 0;overflow: hidden;text-align: left;background-color: #f0f8ff;}#sk-container-id-1 div.sk-toggleable__content pre {margin: 0.2em;color: black;border-radius: 0.25em;background-color: #f0f8ff;}#sk-container-id-1 input.sk-toggleable__control:checked~div.sk-toggleable__content {max-height: 200px;max-width: 100%;overflow: auto;}#sk-container-id-1 input.sk-toggleable__control:checked~label.sk-toggleable__label-arrow:before {content: \"▾\";}#sk-container-id-1 div.sk-estimator input.sk-toggleable__control:checked~label.sk-toggleable__label {background-color: #d4ebff;}#sk-container-id-1 div.sk-label input.sk-toggleable__control:checked~label.sk-toggleable__label {background-color: #d4ebff;}#sk-container-id-1 input.sk-hidden--visually {border: 0;clip: rect(1px 1px 1px 1px);clip: rect(1px, 1px, 1px, 1px);height: 1px;margin: -1px;overflow: hidden;padding: 0;position: absolute;width: 1px;}#sk-container-id-1 div.sk-estimator {font-family: monospace;background-color: #f0f8ff;border: 1px dotted black;border-radius: 0.25em;box-sizing: border-box;margin-bottom: 0.5em;}#sk-container-id-1 div.sk-estimator:hover {background-color: #d4ebff;}#sk-container-id-1 div.sk-parallel-item::after {content: \"\";width: 100%;border-bottom: 1px solid gray;flex-grow: 1;}#sk-container-id-1 div.sk-label:hover label.sk-toggleable__label {background-color: #d4ebff;}#sk-container-id-1 div.sk-serial::before {content: \"\";position: absolute;border-left: 1px solid gray;box-sizing: border-box;top: 0;bottom: 0;left: 50%;z-index: 0;}#sk-container-id-1 div.sk-serial {display: flex;flex-direction: column;align-items: center;background-color: white;padding-right: 0.2em;padding-left: 0.2em;position: relative;}#sk-container-id-1 div.sk-item {position: relative;z-index: 1;}#sk-container-id-1 div.sk-parallel {display: flex;align-items: stretch;justify-content: center;background-color: white;position: relative;}#sk-container-id-1 div.sk-item::before, #sk-container-id-1 div.sk-parallel-item::before {content: \"\";position: absolute;border-left: 1px solid gray;box-sizing: border-box;top: 0;bottom: 0;left: 50%;z-index: -1;}#sk-container-id-1 div.sk-parallel-item {display: flex;flex-direction: column;z-index: 1;position: relative;background-color: white;}#sk-container-id-1 div.sk-parallel-item:first-child::after {align-self: flex-end;width: 50%;}#sk-container-id-1 div.sk-parallel-item:last-child::after {align-self: flex-start;width: 50%;}#sk-container-id-1 div.sk-parallel-item:only-child::after {width: 0;}#sk-container-id-1 div.sk-dashed-wrapped {border: 1px dashed gray;margin: 0 0.4em 0.5em 0.4em;box-sizing: border-box;padding-bottom: 0.4em;background-color: white;}#sk-container-id-1 div.sk-label label {font-family: monospace;font-weight: bold;display: inline-block;line-height: 1.2em;}#sk-container-id-1 div.sk-label-container {text-align: center;}#sk-container-id-1 div.sk-container {/* jupyter's `normalize.less` sets `[hidden] { display: none; }` but bootstrap.min.css set `[hidden] { display: none !important; }` so we also need the `!important` here to be able to override the default hidden behavior on the sphinx rendered scikit-learn.org. See: https://github.com/scikit-learn/scikit-learn/issues/21755 */display: inline-block !important;position: relative;}#sk-container-id-1 div.sk-text-repr-fallback {display: none;}</style><div id=\"sk-container-id-1\" class=\"sk-top-container\"><div class=\"sk-text-repr-fallback\"><pre>LogisticRegression(max_iter=2000, solver=&#x27;liblinear&#x27;)</pre><b>In a Jupyter environment, please rerun this cell to show the HTML representation or trust the notebook. <br />On GitHub, the HTML representation is unable to render, please try loading this page with nbviewer.org.</b></div><div class=\"sk-container\" hidden><div class=\"sk-item\"><div class=\"sk-estimator sk-toggleable\"><input class=\"sk-toggleable__control sk-hidden--visually\" id=\"sk-estimator-id-1\" type=\"checkbox\" checked><label for=\"sk-estimator-id-1\" class=\"sk-toggleable__label sk-toggleable__label-arrow\">LogisticRegression</label><div class=\"sk-toggleable__content\"><pre>LogisticRegression(max_iter=2000, solver=&#x27;liblinear&#x27;)</pre></div></div></div></div></div>"
      ],
      "text/plain": [
       "LogisticRegression(max_iter=2000, solver='liblinear')"
      ]
     },
     "execution_count": 54,
     "metadata": {},
     "output_type": "execute_result"
    }
   ],
   "source": [
    "log_reg = LogisticRegression(max_iter=2000, solver='liblinear')\n",
    "log_reg.fit(X_train_scaled, y_train)"
   ]
  },
  {
   "cell_type": "code",
   "execution_count": 55,
   "metadata": {
    "execution": {
     "iopub.execute_input": "2025-10-10T14:34:31.992253Z",
     "iopub.status.busy": "2025-10-10T14:34:31.991979Z",
     "iopub.status.idle": "2025-10-10T14:34:32.015953Z",
     "shell.execute_reply": "2025-10-10T14:34:32.015238Z",
     "shell.execute_reply.started": "2025-10-10T14:34:31.992234Z"
    },
    "trusted": true
   },
   "outputs": [
    {
     "name": "stdout",
     "output_type": "stream",
     "text": [
      "✅ Train Accuracy: 0.8981\n",
      "✅ Test Accuracy:  0.8952\n",
      "\n",
      "📊 Classification Report:\n",
      "               precision    recall  f1-score   support\n",
      "\n",
      "           0       0.98      0.81      0.89     14773\n",
      "           1       0.83      0.98      0.90     14320\n",
      "\n",
      "    accuracy                           0.90     29093\n",
      "   macro avg       0.91      0.90      0.89     29093\n",
      "weighted avg       0.91      0.90      0.89     29093\n",
      "\n"
     ]
    }
   ],
   "source": [
    "y_train_pred = log_reg.predict(X_train_scaled)\n",
    "y_test_pred = log_reg.predict(X_test_scaled)\n",
    "\n",
    "# Accuracy\n",
    "train_acc = accuracy_score(y_train, y_train_pred)\n",
    "test_acc = accuracy_score(y_test, y_test_pred)\n",
    "\n",
    "print(f\"✅ Train Accuracy: {train_acc:.4f}\")\n",
    "print(f\"✅ Test Accuracy:  {test_acc:.4f}\\n\")\n",
    "\n",
    "# Classification Report\n",
    "print(\"📊 Classification Report:\\n\", classification_report(y_test, y_test_pred))\n"
   ]
  },
  {
   "cell_type": "code",
   "execution_count": 57,
   "metadata": {
    "execution": {
     "iopub.execute_input": "2025-10-10T14:35:36.437072Z",
     "iopub.status.busy": "2025-10-10T14:35:36.436555Z",
     "iopub.status.idle": "2025-10-10T14:35:36.606619Z",
     "shell.execute_reply": "2025-10-10T14:35:36.605571Z",
     "shell.execute_reply.started": "2025-10-10T14:35:36.437040Z"
    },
    "trusted": true
   },
   "outputs": [
    {
     "data": {
      "image/png": "[encoded data removed]",
      "text/plain": [
       "<Figure size 600x400 with 2 Axes>"
      ]
     },
     "metadata": {},
     "output_type": "display_data"
    }
   ],
   "source": [
    "cm = confusion_matrix(y_test, y_test_pred)\n",
    "\n",
    "plt.figure(figsize=(6,4))\n",
    "sns.heatmap(cm, annot=True, fmt='d', cmap='Blues', xticklabels=['Non-Fraud (0)', 'Fraud (1)'], yticklabels=['Non-Fraud (0)', 'Fraud (1)'])\n",
    "plt.xlabel('Predicted')\n",
    "plt.ylabel('Actual')\n",
    "plt.title('Confusion Matrix - Logistic Regression')\n",
    "plt.show()"
   ]
  },
  {
   "cell_type": "code",
   "execution_count": 59,
   "metadata": {
    "execution": {
     "iopub.execute_input": "2025-10-10T15:14:32.295852Z",
     "iopub.status.busy": "2025-10-10T15:14:32.295144Z",
     "iopub.status.idle": "2025-10-10T15:14:32.447266Z",
     "shell.execute_reply": "2025-10-10T15:14:32.446512Z",
     "shell.execute_reply.started": "2025-10-10T15:14:32.295813Z"
    },
    "trusted": true
   },
   "outputs": [
    {
     "data": {
      "image/png": "[encoded data removed]",
      "text/plain": [
       "<Figure size 600x400 with 2 Axes>"
      ]
     },
     "metadata": {},
     "output_type": "display_data"
    }
   ],
   "source": [
    "from sklearn.metrics import confusion_matrix\n",
    "import seaborn as sns\n",
    "import matplotlib.pyplot as plt\n",
    "\n",
    "# Confusion matrix for training set\n",
    "cm_train = confusion_matrix(y_train, y_train_pred)\n",
    "\n",
    "plt.figure(figsize=(6, 4))\n",
    "sns.heatmap(\n",
    "    cm_train,\n",
    "    annot=True,\n",
    "    fmt='d',\n",
    "    cmap='Blues',\n",
    "    xticklabels=['Non-Fraud (0)', 'Fraud (1)'],\n",
    "    yticklabels=['Non-Fraud (0)', 'Fraud (1)']\n",
    ")\n",
    "plt.xlabel('Predicted')\n",
    "plt.ylabel('Actual')\n",
    "plt.title('Confusion Matrix - Logistic Regression (Training Set)')\n",
    "plt.show()"
   ]
  },
  {
   "cell_type": "markdown",
   "metadata": {},
   "source": [
    "## So we have fixed the problem of imbalanced data , by this process we can increase the precision and reall , F1 score , not just the accuracy"
   ]
  }
 ],
 "metadata": {
  "kaggle": {
   "accelerator": "nvidiaTeslaT4",
   "dataSources": [
    {
     "datasetId": 8404743,
     "sourceId": 13263058,
     "sourceType": "datasetVersion"
    }
   ],
   "dockerImageVersionId": 31153,
   "isGpuEnabled": true,
   "isInternetEnabled": true,
   "language": "python",
   "sourceType": "notebook"
  },
  "kernelspec": {
   "display_name": "Python 3",
   "language": "python",
   "name": "python3"
  },
  "language_info": {
   "codemirror_mode": {
    "name": "ipython",
    "version": 3
   },
   "file_extension": ".py",
   "mimetype": "text/x-python",
   "name": "python",
   "nbconvert_exporter": "python",
   "pygments_lexer": "ipython3",
   "version": "3.11.13"
  }
 },
 "nbformat": 4,
 "nbformat_minor": 4
}
